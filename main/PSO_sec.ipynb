{
 "cells": [
  {
   "cell_type": "code",
   "execution_count": 4,
   "id": "11742b2e",
   "metadata": {},
   "outputs": [],
   "source": [
    "using Distributions\n",
    "using Statistics\n",
    "include(\"funtions.jl\")\n",
    "using BenchmarkTools"
   ]
  },
  {
   "cell_type": "code",
   "execution_count": 2,
   "id": "90634a70",
   "metadata": {},
   "outputs": [
    {
     "data": {
      "text/plain": [
       "PSO (generic function with 1 method)"
      ]
     },
     "execution_count": 2,
     "metadata": {},
     "output_type": "execute_result"
    }
   ],
   "source": [
    "function PSO(d, l, u, Part_N, Max_iter)\n",
    "    \n",
    "  #Proceso de inicialización de PSO\n",
    "  x = l' .+ rand(Uniform(0,1), Part_N, d) .* (u - l)'\n",
    "  #Evalua la función objetivo\n",
    "  obj_func = [rosenbrock(x[i, :], d) for i=1:Part_N]\n",
    "  #Obtiene el mejor valor global(mínimo)\n",
    "  glob_opt = minimum(obj_func)\n",
    "  ind = argmin(obj_func)\n",
    "  #Vector de valores optimos\n",
    "  G_opt = reshape(x[ind, :], 1, d) * ones(d, Part_N)\n",
    "  Mejor_pos = x[ind, :]\n",
    "  #Mejor local para cada partícula\n",
    "  Loc_opt = x\n",
    "    \n",
    "  #Inicializa velocidades\n",
    "  v = zeros(Part_N, d)\n",
    "\n",
    "  #Vector para poder evaluar las nuevas posiciones\n",
    "  #en la función objetivo\n",
    "  Nva_obj_func = zeros(1, Part_N)\n",
    "  Evol_func_obj = zeros(1, Max_iter)\n",
    "    \n",
    "  #Inicia proceso de optimización PSO\n",
    "  t = 1\n",
    "  #Criterio de paro\n",
    "  while t < Max_iter\n",
    "    #Calcula la nueva velocidad\n",
    "    v = v .+ rand(Uniform(0,1), Part_N, d) .* (Loc_opt - x) .+ rand(d)' .* (G_opt' .- x)\n",
    "    #Calcula nueva posición\n",
    "    x = x .+ v\n",
    "    #Se verifica que las partículas no se salan de los límites\n",
    "    for i=1:Part_N\n",
    "      if x[i, :] > u\n",
    "        x[i, :] = u\n",
    "      elseif x[i, :] < l\n",
    "        x[i, :] = l\n",
    "      end\n",
    "      #Se evalúan las nuevas posiciones en la funcion objetivo\n",
    "      Nva_obj_func[i] = rosenbrock(x[i, :], d)\n",
    "      #Se verifica si se actualizaron los óptimos locales\n",
    "      if Nva_obj_func[i] < obj_func[i]\n",
    "        #Actualiza óptimo local\n",
    "        Loc_opt[i, :] = x[i, :]\n",
    "        #Actualiza función objetivo\n",
    "        obj_func[i] = Nva_obj_func[i]\n",
    "      end\n",
    "    end\n",
    "    #Obtiene el mejor valor global\n",
    "    Nvo_glob_opt = minimum(obj_func)\n",
    "    ind = argmin(obj_func)\n",
    "    #Se verifica si se actualiza el óptimo global\n",
    "    if Nvo_glob_opt < glob_opt\n",
    "      glob_opt = Nvo_glob_opt\n",
    "      #Obtenemos los valores óptimos en cada dimensión\n",
    "      G_opt[:] = reshape(x[ind, :], 1, d) * ones(d, Part_N)\n",
    "      Mejor_pos = x[ind, :]\n",
    "    end\n",
    "    #Almacena los valores de función objetivo en cada iteración\n",
    "    Evol_func_obj[t] = glob_opt\n",
    "    #Incrementa iteraciones\n",
    "    t = t + 1\n",
    "  end\n",
    "  \n",
    "  return Mejor_pos\n",
    "end"
   ]
  },
  {
   "cell_type": "code",
   "execution_count": 3,
   "id": "a1acac84",
   "metadata": {},
   "outputs": [
    {
     "data": {
      "text/plain": [
       "2-element Vector{Float64}:\n",
       " 0.9906411003995645\n",
       " 0.9671665618817766"
      ]
     },
     "execution_count": 3,
     "metadata": {},
     "output_type": "execute_result"
    }
   ],
   "source": [
    "PSO(2,[-5,-5],[10,10],100,100)"
   ]
  },
  {
   "cell_type": "code",
   "execution_count": 5,
   "id": "9e3167cb",
   "metadata": {},
   "outputs": [
    {
     "data": {
      "text/plain": [
       "BenchmarkTools.Trial: 478 samples with 1 evaluation.\n",
       " Range \u001b[90m(\u001b[39m\u001b[36m\u001b[1mmin\u001b[22m\u001b[39m … \u001b[35mmax\u001b[39m\u001b[90m):  \u001b[39m\u001b[36m\u001b[1m 9.800 ms\u001b[22m\u001b[39m … \u001b[35m 14.259 ms\u001b[39m  \u001b[90m┊\u001b[39m GC \u001b[90m(\u001b[39mmin … max\u001b[90m): \u001b[39m0.00% … 0.00%\n",
       " Time  \u001b[90m(\u001b[39m\u001b[34m\u001b[1mmedian\u001b[22m\u001b[39m\u001b[90m):     \u001b[39m\u001b[34m\u001b[1m10.225 ms               \u001b[22m\u001b[39m\u001b[90m┊\u001b[39m GC \u001b[90m(\u001b[39mmedian\u001b[90m):    \u001b[39m0.00%\n",
       " Time  \u001b[90m(\u001b[39m\u001b[32m\u001b[1mmean\u001b[22m\u001b[39m ± \u001b[32mσ\u001b[39m\u001b[90m):   \u001b[39m\u001b[32m\u001b[1m10.463 ms\u001b[22m\u001b[39m ± \u001b[32m671.737 μs\u001b[39m  \u001b[90m┊\u001b[39m GC \u001b[90m(\u001b[39mmean ± σ\u001b[90m):  \u001b[39m1.79% ± 4.86%\n",
       "\n",
       "  \u001b[39m \u001b[39m \u001b[39m \u001b[39m \u001b[39m \u001b[39m▃\u001b[39m▇\u001b[39m█\u001b[39m▇\u001b[34m▆\u001b[39m\u001b[39m▆\u001b[39m▄\u001b[39m▄\u001b[39m▄\u001b[32m▂\u001b[39m\u001b[39m▂\u001b[39m \u001b[39m \u001b[39m \u001b[39m \u001b[39m \u001b[39m \u001b[39m \u001b[39m \u001b[39m \u001b[39m \u001b[39m \u001b[39m \u001b[39m \u001b[39m \u001b[39m \u001b[39m \u001b[39m \u001b[39m \u001b[39m \u001b[39m \u001b[39m \u001b[39m \u001b[39m \u001b[39m \u001b[39m \u001b[39m \u001b[39m \u001b[39m \u001b[39m \u001b[39m \u001b[39m \u001b[39m \u001b[39m \u001b[39m \u001b[39m \u001b[39m▂\u001b[39m▁\u001b[39m \u001b[39m \u001b[39m \u001b[39m \u001b[39m \u001b[39m \u001b[39m \u001b[39m \u001b[39m \n",
       "  \u001b[39m▄\u001b[39m▄\u001b[39m▁\u001b[39m▁\u001b[39m▁\u001b[39m█\u001b[39m█\u001b[39m█\u001b[39m█\u001b[34m█\u001b[39m\u001b[39m█\u001b[39m█\u001b[39m█\u001b[39m█\u001b[32m█\u001b[39m\u001b[39m█\u001b[39m▄\u001b[39m▄\u001b[39m▁\u001b[39m▄\u001b[39m▄\u001b[39m▁\u001b[39m▁\u001b[39m▁\u001b[39m▁\u001b[39m▁\u001b[39m▁\u001b[39m▁\u001b[39m▁\u001b[39m▁\u001b[39m▁\u001b[39m▁\u001b[39m▄\u001b[39m▁\u001b[39m▁\u001b[39m▁\u001b[39m▁\u001b[39m▁\u001b[39m▄\u001b[39m▁\u001b[39m▁\u001b[39m▄\u001b[39m▁\u001b[39m▁\u001b[39m▁\u001b[39m▁\u001b[39m▁\u001b[39m▆\u001b[39m▅\u001b[39m▆\u001b[39m▇\u001b[39m█\u001b[39m█\u001b[39m▄\u001b[39m█\u001b[39m█\u001b[39m▄\u001b[39m▄\u001b[39m▄\u001b[39m▄\u001b[39m \u001b[39m▇\n",
       "  9.8 ms\u001b[90m        \u001b[39m\u001b[90mHistogram: \u001b[39m\u001b[90m\u001b[1mlog(\u001b[22m\u001b[39m\u001b[90mfrequency\u001b[39m\u001b[90m\u001b[1m)\u001b[22m\u001b[39m\u001b[90m by time\u001b[39m      12.6 ms \u001b[0m\u001b[1m<\u001b[22m\n",
       "\n",
       " Memory estimate\u001b[90m: \u001b[39m\u001b[33m3.25 MiB\u001b[39m, allocs estimate\u001b[90m: \u001b[39m\u001b[33m82664\u001b[39m."
      ]
     },
     "execution_count": 5,
     "metadata": {},
     "output_type": "execute_result"
    }
   ],
   "source": [
    "@benchmark PSO(2,[-5,-5],[10,10],100,100)"
   ]
  }
 ],
 "metadata": {
  "kernelspec": {
   "display_name": "Julia 1.8.3",
   "language": "julia",
   "name": "julia-1.8"
  },
  "language_info": {
   "file_extension": ".jl",
   "mimetype": "application/julia",
   "name": "julia",
   "version": "1.8.3"
  }
 },
 "nbformat": 4,
 "nbformat_minor": 5
}
