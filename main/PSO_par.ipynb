{
 "cells": [
  {
   "cell_type": "code",
   "execution_count": 3,
   "id": "01214a51",
   "metadata": {},
   "outputs": [],
   "source": [
    "using MPI\n",
    "using Dates\n",
    "include(\"funtions.jl\")\n",
    "using Distributions\n",
    "using Statistics\n",
    "using BenchmarkTools\n"
   ]
  },
  {
   "cell_type": "code",
   "execution_count": 4,
   "id": "ba20abe7",
   "metadata": {},
   "outputs": [
    {
     "data": {
      "text/plain": [
       "PSO_par (generic function with 1 method)"
      ]
     },
     "execution_count": 4,
     "metadata": {},
     "output_type": "execute_result"
    }
   ],
   "source": [
    "function PSO_par(d,l,u,Part_N,Max_iter)\n",
    "#Iniciliazamos MPI\n",
    "MPI.Init()\n",
    "#Communicator\n",
    "comm = MPI.COMM_WORLD\n",
    "#My process rank\n",
    "rank = MPI.Comm_rank(comm)\n",
    "#Number of processes\n",
    "size = MPI.Comm_size(comm)\n",
    "\n",
    "\n",
    "h = Part_N ÷ size    #h is the same for all precesses\n",
    "local_act = PSO(d, l, u, h , Max_iter)\n",
    "    \n",
    "if rank != 0\n",
    "  MPI.send(local_act, comm; dest=0, tag=0)\n",
    "else\n",
    "  minl = zeros(d)\n",
    "  for i = 1:size-1\n",
    "    mssgrcv = MPI.recv(comm; source=i, tag=0)\n",
    "    minimo = min(rosenbrock(minl, d), rosenbrock(mssgrcv, d))\n",
    "\n",
    "    # Guardamos el mínimo\n",
    "    if minimo == rosenbrock(minl, d)\n",
    "      global minl = minl\n",
    "      global minl = mssgrcv\n",
    "    end\n",
    "  end\n",
    "end\n",
    "\n",
    "\n",
    "\n",
    "MPI.Barrier(comm)\n",
    "#No lo finalizamos porque queremos ejecutar este programa\n",
    "#varias veces, y marca error si finalizamos el MPI\n",
    "return minl\n",
    "end"
   ]
  },
  {
   "cell_type": "code",
   "execution_count": 5,
   "id": "f61b6018",
   "metadata": {},
   "outputs": [
    {
     "data": {
      "text/plain": [
       "2-element Vector{Float64}:\n",
       " 0.0\n",
       " 0.0"
      ]
     },
     "execution_count": 5,
     "metadata": {},
     "output_type": "execute_result"
    }
   ],
   "source": [
    "PSO_par(2,[-5,-5],[10,10],100,100)"
   ]
  },
  {
   "cell_type": "code",
   "execution_count": null,
   "id": "bb769927",
   "metadata": {},
   "outputs": [],
   "source": [
    "Curiosamente en jupyter notebook no funciona, ya que sabemos que el mínimo está en [1,1]"
   ]
  },
  {
   "cell_type": "code",
   "execution_count": 4,
   "id": "b4f484bb",
   "metadata": {},
   "outputs": [
    {
     "data": {
      "text/plain": [
       "BenchmarkTools.Trial: 465 samples with 1 evaluation.\n",
       " Range \u001b[90m(\u001b[39m\u001b[36m\u001b[1mmin\u001b[22m\u001b[39m … \u001b[35mmax\u001b[39m\u001b[90m):  \u001b[39m\u001b[36m\u001b[1m 9.638 ms\u001b[22m\u001b[39m … \u001b[35m 13.985 ms\u001b[39m  \u001b[90m┊\u001b[39m GC \u001b[90m(\u001b[39mmin … max\u001b[90m): \u001b[39m0.00% … 14.90%\n",
       " Time  \u001b[90m(\u001b[39m\u001b[34m\u001b[1mmedian\u001b[22m\u001b[39m\u001b[90m):     \u001b[39m\u001b[34m\u001b[1m10.548 ms               \u001b[22m\u001b[39m\u001b[90m┊\u001b[39m GC \u001b[90m(\u001b[39mmedian\u001b[90m):    \u001b[39m0.00%\n",
       " Time  \u001b[90m(\u001b[39m\u001b[32m\u001b[1mmean\u001b[22m\u001b[39m ± \u001b[32mσ\u001b[39m\u001b[90m):   \u001b[39m\u001b[32m\u001b[1m10.770 ms\u001b[22m\u001b[39m ± \u001b[32m650.766 μs\u001b[39m  \u001b[90m┊\u001b[39m GC \u001b[90m(\u001b[39mmean ± σ\u001b[90m):  \u001b[39m1.78% ±  4.84%\n",
       "\n",
       "  \u001b[39m \u001b[39m \u001b[39m \u001b[39m \u001b[39m \u001b[39m \u001b[39m \u001b[39m \u001b[39m \u001b[39m \u001b[39m \u001b[39m \u001b[39m \u001b[39m▄\u001b[39m█\u001b[39m▄\u001b[39m▂\u001b[34m \u001b[39m\u001b[39m▁\u001b[39m \u001b[39m \u001b[32m \u001b[39m\u001b[39m \u001b[39m \u001b[39m \u001b[39m \u001b[39m \u001b[39m \u001b[39m \u001b[39m \u001b[39m \u001b[39m \u001b[39m \u001b[39m \u001b[39m \u001b[39m \u001b[39m \u001b[39m \u001b[39m \u001b[39m \u001b[39m \u001b[39m \u001b[39m \u001b[39m \u001b[39m \u001b[39m \u001b[39m \u001b[39m \u001b[39m \u001b[39m \u001b[39m \u001b[39m \u001b[39m \u001b[39m \u001b[39m \u001b[39m \u001b[39m \u001b[39m \u001b[39m \u001b[39m \u001b[39m \u001b[39m \n",
       "  \u001b[39m▂\u001b[39m▁\u001b[39m▁\u001b[39m▂\u001b[39m▁\u001b[39m▁\u001b[39m▂\u001b[39m▁\u001b[39m▁\u001b[39m▂\u001b[39m▂\u001b[39m▃\u001b[39m▆\u001b[39m█\u001b[39m█\u001b[39m█\u001b[39m█\u001b[34m▇\u001b[39m\u001b[39m█\u001b[39m▇\u001b[39m▇\u001b[32m▆\u001b[39m\u001b[39m▅\u001b[39m▇\u001b[39m▅\u001b[39m▃\u001b[39m▃\u001b[39m▁\u001b[39m▁\u001b[39m▂\u001b[39m▂\u001b[39m▂\u001b[39m▁\u001b[39m▁\u001b[39m▁\u001b[39m▂\u001b[39m▁\u001b[39m▂\u001b[39m▃\u001b[39m▂\u001b[39m▁\u001b[39m▁\u001b[39m▁\u001b[39m▁\u001b[39m▂\u001b[39m▁\u001b[39m▁\u001b[39m▁\u001b[39m▂\u001b[39m▁\u001b[39m▂\u001b[39m▂\u001b[39m▃\u001b[39m▃\u001b[39m▃\u001b[39m▃\u001b[39m▃\u001b[39m▂\u001b[39m▂\u001b[39m▃\u001b[39m \u001b[39m▃\n",
       "  9.64 ms\u001b[90m         Histogram: frequency by time\u001b[39m         12.8 ms \u001b[0m\u001b[1m<\u001b[22m\n",
       "\n",
       " Memory estimate\u001b[90m: \u001b[39m\u001b[33m3.21 MiB\u001b[39m, allocs estimate\u001b[90m: \u001b[39m\u001b[33m81957\u001b[39m."
      ]
     },
     "execution_count": 4,
     "metadata": {},
     "output_type": "execute_result"
    }
   ],
   "source": [
    "@benchmark PSO_par(2,[-5,-5],[10,10],100,100)"
   ]
  },
  {
   "cell_type": "code",
   "execution_count": 7,
   "id": "4385d1b6",
   "metadata": {},
   "outputs": [
    {
     "name": "stdout",
     "output_type": "stream",
     "text": [
      "[0.0, 0.0]\n",
      "1265 milliseconds\n"
     ]
    }
   ],
   "source": [
    "#De igual manera al intentar utilizar el benchmanrk en el cluster\n",
    "#marcaba un error gigantesco, por lo que se obtó por un metodo manual para \n",
    "#calcular el tiempo de ejecución\n",
    "\n",
    "#Iniciliazamos MPI\n",
    "MPI.Init()\n",
    "#Communicator\n",
    "comm = MPI.COMM_WORLD\n",
    "#My process rank\n",
    "rank = MPI.Comm_rank(comm)\n",
    "#Number of processes\n",
    "size = MPI.Comm_size(comm)\n",
    "#Empezamos a contar el tiempo\n",
    "if rank == 0\n",
    "  inicial = now()\n",
    "end\n",
    "#Definimos los valores que tendrá el PSO\n",
    "d = 2\n",
    "l = [-5, -5]\n",
    "u = [10, 10]\n",
    "Part_N = 1000\n",
    "Max_iter = 1000\n",
    "\n",
    "pn_act = Part_N ÷ size\n",
    "min_act = PSO(d, l, u, pn_act, Max_iter)\n",
    "if rank != 0\n",
    "  MPI.send(min_act, comm; dest=0, tag=0)\n",
    "else\n",
    "  minl = zeros(d)\n",
    "  for i = 1:size-1\n",
    "    mssgrcv = MPI.recv(comm; source=i, tag=0)\n",
    "    minimo = min(rosenbrock(minl, d), rosenbrock(mssgrcv, d))\n",
    "\n",
    "    # Guardar mínimo\n",
    "    if minimo == rosenbrock(minl, d)\n",
    "      global minl = minl\n",
    "    else\n",
    "      global minl = mssgrcv\n",
    "    end\n",
    "  end\n",
    "end\n",
    "\n",
    "if rank == 0\n",
    "  println(minl)\n",
    "  #Contamos el tiempo final\n",
    "  final = now()\n",
    "  println(final- inicial)\n",
    "end\n",
    "\n",
    "\n",
    "MPI.Barrier(comm)\n",
    "MPI.Finalize()\n"
   ]
  }
 ],
 "metadata": {
  "kernelspec": {
   "display_name": "Julia 1.8.3",
   "language": "julia",
   "name": "julia-1.8"
  },
  "language_info": {
   "file_extension": ".jl",
   "mimetype": "application/julia",
   "name": "julia",
   "version": "1.8.3"
  }
 },
 "nbformat": 4,
 "nbformat_minor": 5
}
