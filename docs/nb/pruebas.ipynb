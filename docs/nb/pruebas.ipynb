{
 "cells": [
  {
   "cell_type": "code",
   "execution_count": 1,
   "id": "27a49141",
   "metadata": {},
   "outputs": [
    {
     "data": {
      "text/plain": [
       "sen (generic function with 1 method)"
      ]
     },
     "execution_count": 1,
     "metadata": {},
     "output_type": "execute_result"
    }
   ],
   "source": [
    "using Distributions\n",
    "using Statistics\n",
    "include(\"funtions.jl\")"
   ]
  },
  {
   "cell_type": "code",
   "execution_count": 4,
   "id": "7998377e",
   "metadata": {},
   "outputs": [],
   "source": [
    "using BenchmarkTools"
   ]
  },
  {
   "cell_type": "code",
   "execution_count": 6,
   "id": "3c2cc270",
   "metadata": {},
   "outputs": [],
   "source": [
    "#Procederemos a modificar la funcion para que reciba otra funciones"
   ]
  },
  {
   "cell_type": "code",
   "execution_count": 7,
   "id": "d1cb849f",
   "metadata": {},
   "outputs": [
    {
     "data": {
      "text/plain": [
       "PSO1 (generic function with 1 method)"
      ]
     },
     "execution_count": 7,
     "metadata": {},
     "output_type": "execute_result"
    }
   ],
   "source": [
    "function PSO1(d, l, u, Part_N, Max_iter,f)\n",
    "    \n",
    "  #Proceso de inicialización de PSO\n",
    "  x = l' .+ rand(Uniform(0,1), Part_N, d) .* (u - l)'\n",
    "  #Evalua la función objetivo\n",
    "  obj_func = [f(x[i]) for i=1:Part_N]\n",
    "  #Obtiene el mejor valor global(mínimo)\n",
    "  glob_opt = minimum(obj_func)\n",
    "  ind = argmin(obj_func)\n",
    "  #Vector de valores optimos\n",
    "  G_opt = reshape(x[ind, :], 1, d) * ones(d, Part_N)\n",
    "  Mejor_pos = x[ind, :]\n",
    "  #Mejor local para cada partícula\n",
    "  Loc_opt = x\n",
    "    \n",
    "  #Inicializa velocidades\n",
    "  v = zeros(Part_N, d)\n",
    "\n",
    "  #Vector para poder evaluar las nuevas posiciones\n",
    "  #en la función objetivo\n",
    "  Nva_obj_func = zeros(1, Part_N)\n",
    "  Evol_func_obj = zeros(1, Max_iter)\n",
    "    \n",
    "  #Inicia proceso de optimización PSO\n",
    "  t = 1\n",
    "  #Criterio de paro\n",
    "  while t < Max_iter\n",
    "    #Calcula la nueva velocidad\n",
    "    v = v .+ rand(Uniform(0,1), Part_N, d) .* (Loc_opt - x) .+ rand(d)' .* (G_opt' .- x)\n",
    "    #Calcula nueva posición\n",
    "    x = x .+ v\n",
    "    #Se verifica que las partículas no se salan de los límites\n",
    "    for i=1:Part_N\n",
    "      if x[i, :] > u\n",
    "        x[i, :] = u\n",
    "      elseif x[i, :] < l\n",
    "        x[i, :] = l\n",
    "      end\n",
    "      #Se evalúan las nuevas posiciones en la funcion objetivo\n",
    "      Nva_obj_func[i] = f(x[i])\n",
    "      #Se verifica si se actualizaron los óptimos locales\n",
    "      if Nva_obj_func[i] < obj_func[i]\n",
    "        #Actualiza óptimo local\n",
    "        Loc_opt[i, :] = x[i, :]\n",
    "        #Actualiza función objetivo\n",
    "        obj_func[i] = Nva_obj_func[i]\n",
    "      end\n",
    "    end\n",
    "    #Obtiene el mejor valor global\n",
    "    Nvo_glob_opt = minimum(obj_func)\n",
    "    ind = argmin(obj_func)\n",
    "    #Se verifica si se actualiza el óptimo global\n",
    "    if Nvo_glob_opt < glob_opt\n",
    "      glob_opt = Nvo_glob_opt\n",
    "      #Obtenemos los valores óptimos en cada dimensión\n",
    "      G_opt[:] = reshape(x[ind, :], 1, d) * ones(d, Part_N)\n",
    "      Mejor_pos = x[ind, :]\n",
    "    end\n",
    "    #Almacena los valores de función objetivo en cada iteración\n",
    "    Evol_func_obj[t] = glob_opt\n",
    "    #Incrementa iteraciones\n",
    "    t = t + 1\n",
    "  end\n",
    "  \n",
    "  return Mejor_pos\n",
    "end"
   ]
  },
  {
   "cell_type": "code",
   "execution_count": 8,
   "id": "8a174812",
   "metadata": {},
   "outputs": [],
   "source": [
    "#Pruebas\n",
    "#Procederemos a hacer 2 pruebas con 2 funciones diferentes \n"
   ]
  },
  {
   "cell_type": "code",
   "execution_count": 9,
   "id": "be6ef588",
   "metadata": {},
   "outputs": [],
   "source": [
    "using Plots"
   ]
  },
  {
   "cell_type": "code",
   "execution_count": 10,
   "id": "9e36a0be",
   "metadata": {},
   "outputs": [
    {
     "data": {
      "text/plain": [
       "cuad (generic function with 1 method)"
      ]
     },
     "execution_count": 10,
     "metadata": {},
     "output_type": "execute_result"
    }
   ],
   "source": [
    "function cuad(x)\n",
    "    return x^2\n",
    "end\n",
    "    "
   ]
  },
  {
   "cell_type": "code",
   "execution_count": 11,
   "id": "b8378016",
   "metadata": {},
   "outputs": [
    {
     "data": {
      "image/svg+xml": [
       "<?xml version=\"1.0\" encoding=\"utf-8\"?>\n",
       "<svg xmlns=\"http://www.w3.org/2000/svg\" xmlns:xlink=\"http://www.w3.org/1999/xlink\" width=\"600\" height=\"400\" viewBox=\"0 0 2400 1600\">\n",
       "<defs>\n",
       "  <clipPath id=\"clip880\">\n",
       "    <rect x=\"0\" y=\"0\" width=\"2400\" height=\"1600\"/>\n",
       "  </clipPath>\n",
       "</defs>\n",
       "<path clip-path=\"url(#clip880)\" d=\"\n",
       "M0 1600 L2400 1600 L2400 0 L0 0  Z\n",
       "  \" fill=\"#ffffff\" fill-rule=\"evenodd\" fill-opacity=\"1\"/>\n",
       "<defs>\n",
       "  <clipPath id=\"clip881\">\n",
       "    <rect x=\"480\" y=\"0\" width=\"1681\" height=\"1600\"/>\n",
       "  </clipPath>\n",
       "</defs>\n",
       "<path clip-path=\"url(#clip880)\" d=\"\n",
       "M186.274 1486.45 L2352.76 1486.45 L2352.76 47.2441 L186.274 47.2441  Z\n",
       "  \" fill=\"#ffffff\" fill-rule=\"evenodd\" fill-opacity=\"1\"/>\n",
       "<defs>\n",
       "  <clipPath id=\"clip882\">\n",
       "    <rect x=\"186\" y=\"47\" width=\"2167\" height=\"1440\"/>\n",
       "  </clipPath>\n",
       "</defs>\n",
       "<polyline clip-path=\"url(#clip882)\" style=\"stroke:#000000; stroke-linecap:round; stroke-linejoin:round; stroke-width:2; stroke-opacity:0.1; fill:none\" points=\"\n",
       "  247.59,1486.45 247.59,47.2441 \n",
       "  \"/>\n",
       "<polyline clip-path=\"url(#clip882)\" style=\"stroke:#000000; stroke-linecap:round; stroke-linejoin:round; stroke-width:2; stroke-opacity:0.1; fill:none\" points=\"\n",
       "  758.552,1486.45 758.552,47.2441 \n",
       "  \"/>\n",
       "<polyline clip-path=\"url(#clip882)\" style=\"stroke:#000000; stroke-linecap:round; stroke-linejoin:round; stroke-width:2; stroke-opacity:0.1; fill:none\" points=\"\n",
       "  1269.51,1486.45 1269.51,47.2441 \n",
       "  \"/>\n",
       "<polyline clip-path=\"url(#clip882)\" style=\"stroke:#000000; stroke-linecap:round; stroke-linejoin:round; stroke-width:2; stroke-opacity:0.1; fill:none\" points=\"\n",
       "  1780.48,1486.45 1780.48,47.2441 \n",
       "  \"/>\n",
       "<polyline clip-path=\"url(#clip882)\" style=\"stroke:#000000; stroke-linecap:round; stroke-linejoin:round; stroke-width:2; stroke-opacity:0.1; fill:none\" points=\"\n",
       "  2291.44,1486.45 2291.44,47.2441 \n",
       "  \"/>\n",
       "<polyline clip-path=\"url(#clip880)\" style=\"stroke:#000000; stroke-linecap:round; stroke-linejoin:round; stroke-width:4; stroke-opacity:1; fill:none\" points=\"\n",
       "  186.274,1486.45 2352.76,1486.45 \n",
       "  \"/>\n",
       "<polyline clip-path=\"url(#clip880)\" style=\"stroke:#000000; stroke-linecap:round; stroke-linejoin:round; stroke-width:4; stroke-opacity:1; fill:none\" points=\"\n",
       "  247.59,1486.45 247.59,1467.55 \n",
       "  \"/>\n",
       "<polyline clip-path=\"url(#clip880)\" style=\"stroke:#000000; stroke-linecap:round; stroke-linejoin:round; stroke-width:4; stroke-opacity:1; fill:none\" points=\"\n",
       "  758.552,1486.45 758.552,1467.55 \n",
       "  \"/>\n",
       "<polyline clip-path=\"url(#clip880)\" style=\"stroke:#000000; stroke-linecap:round; stroke-linejoin:round; stroke-width:4; stroke-opacity:1; fill:none\" points=\"\n",
       "  1269.51,1486.45 1269.51,1467.55 \n",
       "  \"/>\n",
       "<polyline clip-path=\"url(#clip880)\" style=\"stroke:#000000; stroke-linecap:round; stroke-linejoin:round; stroke-width:4; stroke-opacity:1; fill:none\" points=\"\n",
       "  1780.48,1486.45 1780.48,1467.55 \n",
       "  \"/>\n",
       "<polyline clip-path=\"url(#clip880)\" style=\"stroke:#000000; stroke-linecap:round; stroke-linejoin:round; stroke-width:4; stroke-opacity:1; fill:none\" points=\"\n",
       "  2291.44,1486.45 2291.44,1467.55 \n",
       "  \"/>\n",
       "<path clip-path=\"url(#clip880)\" d=\"M194.118 1532.02 L223.793 1532.02 L223.793 1535.95 L194.118 1535.95 L194.118 1532.02 Z\" fill=\"#000000\" fill-rule=\"evenodd\" fill-opacity=\"1\" /><path clip-path=\"url(#clip880)\" d=\"M234.696 1544.91 L242.335 1544.91 L242.335 1518.55 L234.025 1520.21 L234.025 1515.95 L242.289 1514.29 L246.965 1514.29 L246.965 1544.91 L254.603 1544.91 L254.603 1548.85 L234.696 1548.85 L234.696 1544.91 Z\" fill=\"#000000\" fill-rule=\"evenodd\" fill-opacity=\"1\" /><path clip-path=\"url(#clip880)\" d=\"M264.048 1542.97 L268.932 1542.97 L268.932 1548.85 L264.048 1548.85 L264.048 1542.97 Z\" fill=\"#000000\" fill-rule=\"evenodd\" fill-opacity=\"1\" /><path clip-path=\"url(#clip880)\" d=\"M289.117 1517.37 Q285.506 1517.37 283.677 1520.93 Q281.872 1524.47 281.872 1531.6 Q281.872 1538.71 283.677 1542.27 Q285.506 1545.82 289.117 1545.82 Q292.751 1545.82 294.557 1542.27 Q296.386 1538.71 296.386 1531.6 Q296.386 1524.47 294.557 1520.93 Q292.751 1517.37 289.117 1517.37 M289.117 1513.66 Q294.927 1513.66 297.983 1518.27 Q301.061 1522.85 301.061 1531.6 Q301.061 1540.33 297.983 1544.94 Q294.927 1549.52 289.117 1549.52 Q283.307 1549.52 280.228 1544.94 Q277.173 1540.33 277.173 1531.6 Q277.173 1522.85 280.228 1518.27 Q283.307 1513.66 289.117 1513.66 Z\" fill=\"#000000\" fill-rule=\"evenodd\" fill-opacity=\"1\" /><path clip-path=\"url(#clip880)\" d=\"M705.578 1532.02 L735.254 1532.02 L735.254 1535.95 L705.578 1535.95 L705.578 1532.02 Z\" fill=\"#000000\" fill-rule=\"evenodd\" fill-opacity=\"1\" /><path clip-path=\"url(#clip880)\" d=\"M755.346 1517.37 Q751.735 1517.37 749.906 1520.93 Q748.101 1524.47 748.101 1531.6 Q748.101 1538.71 749.906 1542.27 Q751.735 1545.82 755.346 1545.82 Q758.98 1545.82 760.786 1542.27 Q762.615 1538.71 762.615 1531.6 Q762.615 1524.47 760.786 1520.93 Q758.98 1517.37 755.346 1517.37 M755.346 1513.66 Q761.156 1513.66 764.212 1518.27 Q767.291 1522.85 767.291 1531.6 Q767.291 1540.33 764.212 1544.94 Q761.156 1549.52 755.346 1549.52 Q749.536 1549.52 746.457 1544.94 Q743.402 1540.33 743.402 1531.6 Q743.402 1522.85 746.457 1518.27 Q749.536 1513.66 755.346 1513.66 Z\" fill=\"#000000\" fill-rule=\"evenodd\" fill-opacity=\"1\" /><path clip-path=\"url(#clip880)\" d=\"M775.508 1542.97 L780.392 1542.97 L780.392 1548.85 L775.508 1548.85 L775.508 1542.97 Z\" fill=\"#000000\" fill-rule=\"evenodd\" fill-opacity=\"1\" /><path clip-path=\"url(#clip880)\" d=\"M790.624 1514.29 L808.98 1514.29 L808.98 1518.22 L794.906 1518.22 L794.906 1526.7 Q795.925 1526.35 796.943 1526.19 Q797.962 1526 798.98 1526 Q804.767 1526 808.147 1529.17 Q811.526 1532.34 811.526 1537.76 Q811.526 1543.34 808.054 1546.44 Q804.582 1549.52 798.263 1549.52 Q796.087 1549.52 793.818 1549.15 Q791.573 1548.78 789.166 1548.04 L789.166 1543.34 Q791.249 1544.47 793.471 1545.03 Q795.693 1545.58 798.17 1545.58 Q802.175 1545.58 804.513 1543.48 Q806.851 1541.37 806.851 1537.76 Q806.851 1534.15 804.513 1532.04 Q802.175 1529.94 798.17 1529.94 Q796.295 1529.94 794.42 1530.35 Q792.568 1530.77 790.624 1531.65 L790.624 1514.29 Z\" fill=\"#000000\" fill-rule=\"evenodd\" fill-opacity=\"1\" /><path clip-path=\"url(#clip880)\" d=\"M1246.9 1517.37 Q1243.29 1517.37 1241.46 1520.93 Q1239.65 1524.47 1239.65 1531.6 Q1239.65 1538.71 1241.46 1542.27 Q1243.29 1545.82 1246.9 1545.82 Q1250.53 1545.82 1252.34 1542.27 Q1254.17 1538.71 1254.17 1531.6 Q1254.17 1524.47 1252.34 1520.93 Q1250.53 1517.37 1246.9 1517.37 M1246.9 1513.66 Q1252.71 1513.66 1255.77 1518.27 Q1258.84 1522.85 1258.84 1531.6 Q1258.84 1540.33 1255.77 1544.94 Q1252.71 1549.52 1246.9 1549.52 Q1241.09 1549.52 1238.01 1544.94 Q1234.95 1540.33 1234.95 1531.6 Q1234.95 1522.85 1238.01 1518.27 Q1241.09 1513.66 1246.9 1513.66 Z\" fill=\"#000000\" fill-rule=\"evenodd\" fill-opacity=\"1\" /><path clip-path=\"url(#clip880)\" d=\"M1267.06 1542.97 L1271.95 1542.97 L1271.95 1548.85 L1267.06 1548.85 L1267.06 1542.97 Z\" fill=\"#000000\" fill-rule=\"evenodd\" fill-opacity=\"1\" /><path clip-path=\"url(#clip880)\" d=\"M1292.13 1517.37 Q1288.52 1517.37 1286.69 1520.93 Q1284.89 1524.47 1284.89 1531.6 Q1284.89 1538.71 1286.69 1542.27 Q1288.52 1545.82 1292.13 1545.82 Q1295.76 1545.82 1297.57 1542.27 Q1299.4 1538.71 1299.4 1531.6 Q1299.4 1524.47 1297.57 1520.93 Q1295.76 1517.37 1292.13 1517.37 M1292.13 1513.66 Q1297.94 1513.66 1301 1518.27 Q1304.07 1522.85 1304.07 1531.6 Q1304.07 1540.33 1301 1544.94 Q1297.94 1549.52 1292.13 1549.52 Q1286.32 1549.52 1283.24 1544.94 Q1280.19 1540.33 1280.19 1531.6 Q1280.19 1522.85 1283.24 1518.27 Q1286.32 1513.66 1292.13 1513.66 Z\" fill=\"#000000\" fill-rule=\"evenodd\" fill-opacity=\"1\" /><path clip-path=\"url(#clip880)\" d=\"M1758.36 1517.37 Q1754.75 1517.37 1752.92 1520.93 Q1751.11 1524.47 1751.11 1531.6 Q1751.11 1538.71 1752.92 1542.27 Q1754.75 1545.82 1758.36 1545.82 Q1761.99 1545.82 1763.8 1542.27 Q1765.63 1538.71 1765.63 1531.6 Q1765.63 1524.47 1763.8 1520.93 Q1761.99 1517.37 1758.36 1517.37 M1758.36 1513.66 Q1764.17 1513.66 1767.23 1518.27 Q1770.3 1522.85 1770.3 1531.6 Q1770.3 1540.33 1767.23 1544.94 Q1764.17 1549.52 1758.36 1549.52 Q1752.55 1549.52 1749.47 1544.94 Q1746.42 1540.33 1746.42 1531.6 Q1746.42 1522.85 1749.47 1518.27 Q1752.55 1513.66 1758.36 1513.66 Z\" fill=\"#000000\" fill-rule=\"evenodd\" fill-opacity=\"1\" /><path clip-path=\"url(#clip880)\" d=\"M1778.52 1542.97 L1783.41 1542.97 L1783.41 1548.85 L1778.52 1548.85 L1778.52 1542.97 Z\" fill=\"#000000\" fill-rule=\"evenodd\" fill-opacity=\"1\" /><path clip-path=\"url(#clip880)\" d=\"M1793.64 1514.29 L1811.99 1514.29 L1811.99 1518.22 L1797.92 1518.22 L1797.92 1526.7 Q1798.94 1526.35 1799.96 1526.19 Q1800.98 1526 1801.99 1526 Q1807.78 1526 1811.16 1529.17 Q1814.54 1532.34 1814.54 1537.76 Q1814.54 1543.34 1811.07 1546.44 Q1807.6 1549.52 1801.28 1549.52 Q1799.1 1549.52 1796.83 1549.15 Q1794.59 1548.78 1792.18 1548.04 L1792.18 1543.34 Q1794.26 1544.47 1796.48 1545.03 Q1798.71 1545.58 1801.18 1545.58 Q1805.19 1545.58 1807.53 1543.48 Q1809.86 1541.37 1809.86 1537.76 Q1809.86 1534.15 1807.53 1532.04 Q1805.19 1529.94 1801.18 1529.94 Q1799.31 1529.94 1797.43 1530.35 Q1795.58 1530.77 1793.64 1531.65 L1793.64 1514.29 Z\" fill=\"#000000\" fill-rule=\"evenodd\" fill-opacity=\"1\" /><path clip-path=\"url(#clip880)\" d=\"M2258.59 1544.91 L2266.23 1544.91 L2266.23 1518.55 L2257.92 1520.21 L2257.92 1515.95 L2266.19 1514.29 L2270.86 1514.29 L2270.86 1544.91 L2278.5 1544.91 L2278.5 1548.85 L2258.59 1548.85 L2258.59 1544.91 Z\" fill=\"#000000\" fill-rule=\"evenodd\" fill-opacity=\"1\" /><path clip-path=\"url(#clip880)\" d=\"M2287.95 1542.97 L2292.83 1542.97 L2292.83 1548.85 L2287.95 1548.85 L2287.95 1542.97 Z\" fill=\"#000000\" fill-rule=\"evenodd\" fill-opacity=\"1\" /><path clip-path=\"url(#clip880)\" d=\"M2313.01 1517.37 Q2309.4 1517.37 2307.57 1520.93 Q2305.77 1524.47 2305.77 1531.6 Q2305.77 1538.71 2307.57 1542.27 Q2309.4 1545.82 2313.01 1545.82 Q2316.65 1545.82 2318.45 1542.27 Q2320.28 1538.71 2320.28 1531.6 Q2320.28 1524.47 2318.45 1520.93 Q2316.65 1517.37 2313.01 1517.37 M2313.01 1513.66 Q2318.82 1513.66 2321.88 1518.27 Q2324.96 1522.85 2324.96 1531.6 Q2324.96 1540.33 2321.88 1544.94 Q2318.82 1549.52 2313.01 1549.52 Q2307.2 1549.52 2304.13 1544.94 Q2301.07 1540.33 2301.07 1531.6 Q2301.07 1522.85 2304.13 1518.27 Q2307.2 1513.66 2313.01 1513.66 Z\" fill=\"#000000\" fill-rule=\"evenodd\" fill-opacity=\"1\" /><polyline clip-path=\"url(#clip882)\" style=\"stroke:#000000; stroke-linecap:round; stroke-linejoin:round; stroke-width:2; stroke-opacity:0.1; fill:none\" points=\"\n",
       "  186.274,1445.85 2352.76,1445.85 \n",
       "  \"/>\n",
       "<polyline clip-path=\"url(#clip882)\" style=\"stroke:#000000; stroke-linecap:round; stroke-linejoin:round; stroke-width:2; stroke-opacity:0.1; fill:none\" points=\"\n",
       "  186.274,1106.38 2352.76,1106.38 \n",
       "  \"/>\n",
       "<polyline clip-path=\"url(#clip882)\" style=\"stroke:#000000; stroke-linecap:round; stroke-linejoin:round; stroke-width:2; stroke-opacity:0.1; fill:none\" points=\"\n",
       "  186.274,766.915 2352.76,766.915 \n",
       "  \"/>\n",
       "<polyline clip-path=\"url(#clip882)\" style=\"stroke:#000000; stroke-linecap:round; stroke-linejoin:round; stroke-width:2; stroke-opacity:0.1; fill:none\" points=\"\n",
       "  186.274,427.446 2352.76,427.446 \n",
       "  \"/>\n",
       "<polyline clip-path=\"url(#clip882)\" style=\"stroke:#000000; stroke-linecap:round; stroke-linejoin:round; stroke-width:2; stroke-opacity:0.1; fill:none\" points=\"\n",
       "  186.274,87.9763 2352.76,87.9763 \n",
       "  \"/>\n",
       "<polyline clip-path=\"url(#clip880)\" style=\"stroke:#000000; stroke-linecap:round; stroke-linejoin:round; stroke-width:4; stroke-opacity:1; fill:none\" points=\"\n",
       "  186.274,1486.45 186.274,47.2441 \n",
       "  \"/>\n",
       "<polyline clip-path=\"url(#clip880)\" style=\"stroke:#000000; stroke-linecap:round; stroke-linejoin:round; stroke-width:4; stroke-opacity:1; fill:none\" points=\"\n",
       "  186.274,1445.85 205.172,1445.85 \n",
       "  \"/>\n",
       "<polyline clip-path=\"url(#clip880)\" style=\"stroke:#000000; stroke-linecap:round; stroke-linejoin:round; stroke-width:4; stroke-opacity:1; fill:none\" points=\"\n",
       "  186.274,1106.38 205.172,1106.38 \n",
       "  \"/>\n",
       "<polyline clip-path=\"url(#clip880)\" style=\"stroke:#000000; stroke-linecap:round; stroke-linejoin:round; stroke-width:4; stroke-opacity:1; fill:none\" points=\"\n",
       "  186.274,766.915 205.172,766.915 \n",
       "  \"/>\n",
       "<polyline clip-path=\"url(#clip880)\" style=\"stroke:#000000; stroke-linecap:round; stroke-linejoin:round; stroke-width:4; stroke-opacity:1; fill:none\" points=\"\n",
       "  186.274,427.446 205.172,427.446 \n",
       "  \"/>\n",
       "<polyline clip-path=\"url(#clip880)\" style=\"stroke:#000000; stroke-linecap:round; stroke-linejoin:round; stroke-width:4; stroke-opacity:1; fill:none\" points=\"\n",
       "  186.274,87.9763 205.172,87.9763 \n",
       "  \"/>\n",
       "<path clip-path=\"url(#clip880)\" d=\"M62.9365 1431.65 Q59.3254 1431.65 57.4967 1435.22 Q55.6912 1438.76 55.6912 1445.89 Q55.6912 1453 57.4967 1456.56 Q59.3254 1460.1 62.9365 1460.1 Q66.5707 1460.1 68.3763 1456.56 Q70.205 1453 70.205 1445.89 Q70.205 1438.76 68.3763 1435.22 Q66.5707 1431.65 62.9365 1431.65 M62.9365 1427.95 Q68.7467 1427.95 71.8022 1432.56 Q74.8809 1437.14 74.8809 1445.89 Q74.8809 1454.62 71.8022 1459.22 Q68.7467 1463.81 62.9365 1463.81 Q57.1264 1463.81 54.0477 1459.22 Q50.9921 1454.62 50.9921 1445.89 Q50.9921 1437.14 54.0477 1432.56 Q57.1264 1427.95 62.9365 1427.95 Z\" fill=\"#000000\" fill-rule=\"evenodd\" fill-opacity=\"1\" /><path clip-path=\"url(#clip880)\" d=\"M83.0984 1457.25 L87.9827 1457.25 L87.9827 1463.13 L83.0984 1463.13 L83.0984 1457.25 Z\" fill=\"#000000\" fill-rule=\"evenodd\" fill-opacity=\"1\" /><path clip-path=\"url(#clip880)\" d=\"M108.168 1431.65 Q104.557 1431.65 102.728 1435.22 Q100.922 1438.76 100.922 1445.89 Q100.922 1453 102.728 1456.56 Q104.557 1460.1 108.168 1460.1 Q111.802 1460.1 113.608 1456.56 Q115.436 1453 115.436 1445.89 Q115.436 1438.76 113.608 1435.22 Q111.802 1431.65 108.168 1431.65 M108.168 1427.95 Q113.978 1427.95 117.033 1432.56 Q120.112 1437.14 120.112 1445.89 Q120.112 1454.62 117.033 1459.22 Q113.978 1463.81 108.168 1463.81 Q102.358 1463.81 99.2789 1459.22 Q96.2234 1454.62 96.2234 1445.89 Q96.2234 1437.14 99.2789 1432.56 Q102.358 1427.95 108.168 1427.95 Z\" fill=\"#000000\" fill-rule=\"evenodd\" fill-opacity=\"1\" /><path clip-path=\"url(#clip880)\" d=\"M138.33 1431.65 Q134.719 1431.65 132.89 1435.22 Q131.084 1438.76 131.084 1445.89 Q131.084 1453 132.89 1456.56 Q134.719 1460.1 138.33 1460.1 Q141.964 1460.1 143.769 1456.56 Q145.598 1453 145.598 1445.89 Q145.598 1438.76 143.769 1435.22 Q141.964 1431.65 138.33 1431.65 M138.33 1427.95 Q144.14 1427.95 147.195 1432.56 Q150.274 1437.14 150.274 1445.89 Q150.274 1454.62 147.195 1459.22 Q144.14 1463.81 138.33 1463.81 Q132.519 1463.81 129.441 1459.22 Q126.385 1454.62 126.385 1445.89 Q126.385 1437.14 129.441 1432.56 Q132.519 1427.95 138.33 1427.95 Z\" fill=\"#000000\" fill-rule=\"evenodd\" fill-opacity=\"1\" /><path clip-path=\"url(#clip880)\" d=\"M63.9319 1092.18 Q60.3208 1092.18 58.4921 1095.75 Q56.6865 1099.29 56.6865 1106.42 Q56.6865 1113.53 58.4921 1117.09 Q60.3208 1120.63 63.9319 1120.63 Q67.5661 1120.63 69.3717 1117.09 Q71.2004 1113.53 71.2004 1106.42 Q71.2004 1099.29 69.3717 1095.75 Q67.5661 1092.18 63.9319 1092.18 M63.9319 1088.48 Q69.742 1088.48 72.7976 1093.09 Q75.8763 1097.67 75.8763 1106.42 Q75.8763 1115.15 72.7976 1119.75 Q69.742 1124.34 63.9319 1124.34 Q58.1217 1124.34 55.043 1119.75 Q51.9875 1115.15 51.9875 1106.42 Q51.9875 1097.67 55.043 1093.09 Q58.1217 1088.48 63.9319 1088.48 Z\" fill=\"#000000\" fill-rule=\"evenodd\" fill-opacity=\"1\" /><path clip-path=\"url(#clip880)\" d=\"M84.0938 1117.79 L88.978 1117.79 L88.978 1123.66 L84.0938 1123.66 L84.0938 1117.79 Z\" fill=\"#000000\" fill-rule=\"evenodd\" fill-opacity=\"1\" /><path clip-path=\"url(#clip880)\" d=\"M103.191 1119.73 L119.51 1119.73 L119.51 1123.66 L97.566 1123.66 L97.566 1119.73 Q100.228 1116.97 104.811 1112.35 Q109.418 1107.69 110.598 1106.35 Q112.844 1103.83 113.723 1102.09 Q114.626 1100.33 114.626 1098.64 Q114.626 1095.89 112.682 1094.15 Q110.76 1092.41 107.658 1092.41 Q105.459 1092.41 103.006 1093.18 Q100.575 1093.94 97.7974 1095.49 L97.7974 1090.77 Q100.621 1089.64 103.075 1089.06 Q105.529 1088.48 107.566 1088.48 Q112.936 1088.48 116.131 1091.16 Q119.325 1093.85 119.325 1098.34 Q119.325 1100.47 118.515 1102.39 Q117.728 1104.29 115.621 1106.88 Q115.043 1107.55 111.941 1110.77 Q108.839 1113.97 103.191 1119.73 Z\" fill=\"#000000\" fill-rule=\"evenodd\" fill-opacity=\"1\" /><path clip-path=\"url(#clip880)\" d=\"M129.371 1089.1 L147.728 1089.1 L147.728 1093.04 L133.654 1093.04 L133.654 1101.51 Q134.672 1101.16 135.691 1101 Q136.709 1100.82 137.728 1100.82 Q143.515 1100.82 146.894 1103.99 Q150.274 1107.16 150.274 1112.58 Q150.274 1118.16 146.802 1121.26 Q143.33 1124.34 137.01 1124.34 Q134.834 1124.34 132.566 1123.97 Q130.32 1123.6 127.913 1122.85 L127.913 1118.16 Q129.996 1119.29 132.219 1119.85 Q134.441 1120.4 136.918 1120.4 Q140.922 1120.4 143.26 1118.29 Q145.598 1116.19 145.598 1112.58 Q145.598 1108.97 143.26 1106.86 Q140.922 1104.75 136.918 1104.75 Q135.043 1104.75 133.168 1105.17 Q131.316 1105.59 129.371 1106.47 L129.371 1089.1 Z\" fill=\"#000000\" fill-rule=\"evenodd\" fill-opacity=\"1\" /><path clip-path=\"url(#clip880)\" d=\"M62.9365 752.714 Q59.3254 752.714 57.4967 756.279 Q55.6912 759.82 55.6912 766.95 Q55.6912 774.056 57.4967 777.621 Q59.3254 781.163 62.9365 781.163 Q66.5707 781.163 68.3763 777.621 Q70.205 774.056 70.205 766.95 Q70.205 759.82 68.3763 756.279 Q66.5707 752.714 62.9365 752.714 M62.9365 749.01 Q68.7467 749.01 71.8022 753.617 Q74.8809 758.2 74.8809 766.95 Q74.8809 775.677 71.8022 780.283 Q68.7467 784.867 62.9365 784.867 Q57.1264 784.867 54.0477 780.283 Q50.9921 775.677 50.9921 766.95 Q50.9921 758.2 54.0477 753.617 Q57.1264 749.01 62.9365 749.01 Z\" fill=\"#000000\" fill-rule=\"evenodd\" fill-opacity=\"1\" /><path clip-path=\"url(#clip880)\" d=\"M83.0984 778.316 L87.9827 778.316 L87.9827 784.195 L83.0984 784.195 L83.0984 778.316 Z\" fill=\"#000000\" fill-rule=\"evenodd\" fill-opacity=\"1\" /><path clip-path=\"url(#clip880)\" d=\"M98.2141 749.635 L116.57 749.635 L116.57 753.57 L102.496 753.57 L102.496 762.043 Q103.515 761.695 104.534 761.533 Q105.552 761.348 106.571 761.348 Q112.358 761.348 115.737 764.519 Q119.117 767.691 119.117 773.107 Q119.117 778.686 115.645 781.788 Q112.172 784.867 105.853 784.867 Q103.677 784.867 101.409 784.496 Q99.1632 784.126 96.7558 783.385 L96.7558 778.686 Q98.8391 779.82 101.061 780.376 Q103.284 780.931 105.76 780.931 Q109.765 780.931 112.103 778.825 Q114.441 776.718 114.441 773.107 Q114.441 769.496 112.103 767.39 Q109.765 765.283 105.76 765.283 Q103.885 765.283 102.01 765.7 Q100.159 766.117 98.2141 766.996 L98.2141 749.635 Z\" fill=\"#000000\" fill-rule=\"evenodd\" fill-opacity=\"1\" /><path clip-path=\"url(#clip880)\" d=\"M138.33 752.714 Q134.719 752.714 132.89 756.279 Q131.084 759.82 131.084 766.95 Q131.084 774.056 132.89 777.621 Q134.719 781.163 138.33 781.163 Q141.964 781.163 143.769 777.621 Q145.598 774.056 145.598 766.95 Q145.598 759.82 143.769 756.279 Q141.964 752.714 138.33 752.714 M138.33 749.01 Q144.14 749.01 147.195 753.617 Q150.274 758.2 150.274 766.95 Q150.274 775.677 147.195 780.283 Q144.14 784.867 138.33 784.867 Q132.519 784.867 129.441 780.283 Q126.385 775.677 126.385 766.95 Q126.385 758.2 129.441 753.617 Q132.519 749.01 138.33 749.01 Z\" fill=\"#000000\" fill-rule=\"evenodd\" fill-opacity=\"1\" /><path clip-path=\"url(#clip880)\" d=\"M63.9319 413.244 Q60.3208 413.244 58.4921 416.809 Q56.6865 420.351 56.6865 427.48 Q56.6865 434.587 58.4921 438.152 Q60.3208 441.693 63.9319 441.693 Q67.5661 441.693 69.3717 438.152 Q71.2004 434.587 71.2004 427.48 Q71.2004 420.351 69.3717 416.809 Q67.5661 413.244 63.9319 413.244 M63.9319 409.541 Q69.742 409.541 72.7976 414.147 Q75.8763 418.731 75.8763 427.48 Q75.8763 436.207 72.7976 440.814 Q69.742 445.397 63.9319 445.397 Q58.1217 445.397 55.043 440.814 Q51.9875 436.207 51.9875 427.48 Q51.9875 418.731 55.043 414.147 Q58.1217 409.541 63.9319 409.541 Z\" fill=\"#000000\" fill-rule=\"evenodd\" fill-opacity=\"1\" /><path clip-path=\"url(#clip880)\" d=\"M84.0938 438.846 L88.978 438.846 L88.978 444.726 L84.0938 444.726 L84.0938 438.846 Z\" fill=\"#000000\" fill-rule=\"evenodd\" fill-opacity=\"1\" /><path clip-path=\"url(#clip880)\" d=\"M97.9826 410.166 L120.205 410.166 L120.205 412.156 L107.658 444.726 L102.774 444.726 L114.58 414.101 L97.9826 414.101 L97.9826 410.166 Z\" fill=\"#000000\" fill-rule=\"evenodd\" fill-opacity=\"1\" /><path clip-path=\"url(#clip880)\" d=\"M129.371 410.166 L147.728 410.166 L147.728 414.101 L133.654 414.101 L133.654 422.573 Q134.672 422.226 135.691 422.064 Q136.709 421.879 137.728 421.879 Q143.515 421.879 146.894 425.05 Q150.274 428.221 150.274 433.638 Q150.274 439.217 146.802 442.318 Q143.33 445.397 137.01 445.397 Q134.834 445.397 132.566 445.027 Q130.32 444.656 127.913 443.916 L127.913 439.217 Q129.996 440.351 132.219 440.906 Q134.441 441.462 136.918 441.462 Q140.922 441.462 143.26 439.355 Q145.598 437.249 145.598 433.638 Q145.598 430.027 143.26 427.92 Q140.922 425.814 136.918 425.814 Q135.043 425.814 133.168 426.23 Q131.316 426.647 129.371 427.527 L129.371 410.166 Z\" fill=\"#000000\" fill-rule=\"evenodd\" fill-opacity=\"1\" /><path clip-path=\"url(#clip880)\" d=\"M53.7467 101.321 L61.3856 101.321 L61.3856 74.9555 L53.0754 76.6222 L53.0754 72.3629 L61.3393 70.6963 L66.0152 70.6963 L66.0152 101.321 L73.654 101.321 L73.654 105.256 L53.7467 105.256 L53.7467 101.321 Z\" fill=\"#000000\" fill-rule=\"evenodd\" fill-opacity=\"1\" /><path clip-path=\"url(#clip880)\" d=\"M83.0984 99.3767 L87.9827 99.3767 L87.9827 105.256 L83.0984 105.256 L83.0984 99.3767 Z\" fill=\"#000000\" fill-rule=\"evenodd\" fill-opacity=\"1\" /><path clip-path=\"url(#clip880)\" d=\"M108.168 73.775 Q104.557 73.775 102.728 77.3398 Q100.922 80.8814 100.922 88.011 Q100.922 95.1174 102.728 98.6822 Q104.557 102.224 108.168 102.224 Q111.802 102.224 113.608 98.6822 Q115.436 95.1174 115.436 88.011 Q115.436 80.8814 113.608 77.3398 Q111.802 73.775 108.168 73.775 M108.168 70.0713 Q113.978 70.0713 117.033 74.6777 Q120.112 79.261 120.112 88.011 Q120.112 96.7378 117.033 101.344 Q113.978 105.928 108.168 105.928 Q102.358 105.928 99.2789 101.344 Q96.2234 96.7378 96.2234 88.011 Q96.2234 79.261 99.2789 74.6777 Q102.358 70.0713 108.168 70.0713 Z\" fill=\"#000000\" fill-rule=\"evenodd\" fill-opacity=\"1\" /><path clip-path=\"url(#clip880)\" d=\"M138.33 73.775 Q134.719 73.775 132.89 77.3398 Q131.084 80.8814 131.084 88.011 Q131.084 95.1174 132.89 98.6822 Q134.719 102.224 138.33 102.224 Q141.964 102.224 143.769 98.6822 Q145.598 95.1174 145.598 88.011 Q145.598 80.8814 143.769 77.3398 Q141.964 73.775 138.33 73.775 M138.33 70.0713 Q144.14 70.0713 147.195 74.6777 Q150.274 79.261 150.274 88.011 Q150.274 96.7378 147.195 101.344 Q144.14 105.928 138.33 105.928 Q132.519 105.928 129.441 101.344 Q126.385 96.7378 126.385 88.011 Q126.385 79.261 129.441 74.6777 Q132.519 70.0713 138.33 70.0713 Z\" fill=\"#000000\" fill-rule=\"evenodd\" fill-opacity=\"1\" /><polyline clip-path=\"url(#clip882)\" style=\"stroke:#009af9; stroke-linecap:round; stroke-linejoin:round; stroke-width:4; stroke-opacity:1; fill:none\" points=\"\n",
       "  247.59,87.9763 268.234,142.286 288.879,195.487 309.524,247.58 330.169,298.564 350.814,348.441 371.459,397.208 392.104,444.868 412.749,491.419 433.394,536.862 \n",
       "  454.039,581.196 474.684,624.422 495.329,666.54 515.974,707.549 536.619,747.45 557.264,786.242 577.909,823.926 598.554,860.502 619.199,895.97 639.844,930.329 \n",
       "  660.489,963.58 681.134,995.722 701.779,1026.76 722.424,1056.68 743.069,1085.5 763.713,1113.21 784.358,1139.81 805.003,1165.3 825.648,1189.68 846.293,1212.96 \n",
       "  866.938,1235.13 887.583,1256.19 908.228,1276.14 928.873,1294.98 949.518,1312.71 970.163,1329.34 990.808,1344.86 1011.45,1359.26 1032.1,1372.56 1052.74,1384.76 \n",
       "  1073.39,1395.84 1094.03,1405.81 1114.68,1414.68 1135.32,1422.44 1155.97,1429.09 1176.61,1434.63 1197.26,1439.07 1217.9,1442.39 1238.55,1444.61 1259.19,1445.72 \n",
       "  1279.84,1445.72 1300.48,1444.61 1321.13,1442.39 1341.77,1439.07 1362.42,1434.63 1383.06,1429.09 1403.71,1422.44 1424.35,1414.68 1445,1405.81 1465.64,1395.84 \n",
       "  1486.29,1384.76 1506.93,1372.56 1527.58,1359.26 1548.22,1344.86 1568.87,1329.34 1589.51,1312.71 1610.16,1294.98 1630.8,1276.14 1651.45,1256.19 1672.09,1235.13 \n",
       "  1692.74,1212.96 1713.38,1189.68 1734.03,1165.3 1754.67,1139.81 1775.32,1113.21 1795.96,1085.5 1816.61,1056.68 1837.25,1026.76 1857.9,995.722 1878.54,963.58 \n",
       "  1899.19,930.329 1919.83,895.97 1940.48,860.502 1961.12,823.926 1981.77,786.242 2002.41,747.45 2023.06,707.549 2043.7,666.54 2064.35,624.422 2084.99,581.196 \n",
       "  2105.64,536.862 2126.28,491.419 2146.93,444.868 2167.57,397.208 2188.22,348.441 2208.86,298.564 2229.51,247.58 2250.15,195.487 2270.8,142.286 2291.44,87.9763 \n",
       "  \n",
       "  \"/>\n",
       "<path clip-path=\"url(#clip880)\" d=\"\n",
       "M2011.46 1438.47 L2280.54 1438.47 L2280.54 1334.79 L2011.46 1334.79  Z\n",
       "  \" fill=\"#ffffff\" fill-rule=\"evenodd\" fill-opacity=\"1\"/>\n",
       "<polyline clip-path=\"url(#clip880)\" style=\"stroke:#000000; stroke-linecap:round; stroke-linejoin:round; stroke-width:4; stroke-opacity:1; fill:none\" points=\"\n",
       "  2011.46,1438.47 2280.54,1438.47 2280.54,1334.79 2011.46,1334.79 2011.46,1438.47 \n",
       "  \"/>\n",
       "<polyline clip-path=\"url(#clip880)\" style=\"stroke:#009af9; stroke-linecap:round; stroke-linejoin:round; stroke-width:4; stroke-opacity:1; fill:none\" points=\"\n",
       "  2035.53,1386.63 2179.97,1386.63 \n",
       "  \"/>\n",
       "<path clip-path=\"url(#clip880)\" d=\"M2217.88 1406.32 Q2216.07 1410.95 2214.36 1412.36 Q2212.65 1413.78 2209.78 1413.78 L2206.38 1413.78 L2206.38 1410.21 L2208.88 1410.21 Q2210.63 1410.21 2211.61 1409.38 Q2212.58 1408.54 2213.76 1405.44 L2214.52 1403.5 L2204.04 1377.99 L2208.55 1377.99 L2216.65 1398.27 L2224.76 1377.99 L2229.27 1377.99 L2217.88 1406.32 Z\" fill=\"#000000\" fill-rule=\"evenodd\" fill-opacity=\"1\" /><path clip-path=\"url(#clip880)\" d=\"M2236.56 1399.98 L2244.2 1399.98 L2244.2 1373.61 L2235.89 1375.28 L2235.89 1371.02 L2244.15 1369.35 L2248.83 1369.35 L2248.83 1399.98 L2256.47 1399.98 L2256.47 1403.91 L2236.56 1403.91 L2236.56 1399.98 Z\" fill=\"#000000\" fill-rule=\"evenodd\" fill-opacity=\"1\" /></svg>\n"
      ]
     },
     "execution_count": 11,
     "metadata": {},
     "output_type": "execute_result"
    }
   ],
   "source": [
    "#Gráfica de x², vemos que hay un mínimo en 0\n",
    "x = range(-1,1, length=100)\n",
    "plot(x,cuad)"
   ]
  },
  {
   "cell_type": "code",
   "execution_count": 12,
   "id": "40ddb4dc",
   "metadata": {},
   "outputs": [
    {
     "data": {
      "text/plain": [
       "1-element Vector{Float64}:\n",
       " 2.0788861496090494e-5"
      ]
     },
     "execution_count": 12,
     "metadata": {},
     "output_type": "execute_result"
    }
   ],
   "source": [
    "PSO1(1,[-1],[1],100,100,cuad)"
   ]
  },
  {
   "cell_type": "code",
   "execution_count": 13,
   "id": "8b204ef3",
   "metadata": {},
   "outputs": [
    {
     "data": {
      "text/plain": [
       "BenchmarkTools.Trial: 626 samples with 1 evaluation.\n",
       " Range \u001b[90m(\u001b[39m\u001b[36m\u001b[1mmin\u001b[22m\u001b[39m … \u001b[35mmax\u001b[39m\u001b[90m):  \u001b[39m\u001b[36m\u001b[1m7.317 ms\u001b[22m\u001b[39m … \u001b[35m 13.546 ms\u001b[39m  \u001b[90m┊\u001b[39m GC \u001b[90m(\u001b[39mmin … max\u001b[90m): \u001b[39m0.00% … 27.14%\n",
       " Time  \u001b[90m(\u001b[39m\u001b[34m\u001b[1mmedian\u001b[22m\u001b[39m\u001b[90m):     \u001b[39m\u001b[34m\u001b[1m7.738 ms               \u001b[22m\u001b[39m\u001b[90m┊\u001b[39m GC \u001b[90m(\u001b[39mmedian\u001b[90m):    \u001b[39m0.00%\n",
       " Time  \u001b[90m(\u001b[39m\u001b[32m\u001b[1mmean\u001b[22m\u001b[39m ± \u001b[32mσ\u001b[39m\u001b[90m):   \u001b[39m\u001b[32m\u001b[1m7.987 ms\u001b[22m\u001b[39m ± \u001b[32m827.966 μs\u001b[39m  \u001b[90m┊\u001b[39m GC \u001b[90m(\u001b[39mmean ± σ\u001b[90m):  \u001b[39m1.63% ±  5.72%\n",
       "\n",
       "  \u001b[39m \u001b[39m \u001b[39m▂\u001b[39m▇\u001b[39m█\u001b[34m▇\u001b[39m\u001b[39m▃\u001b[39m \u001b[39m \u001b[32m \u001b[39m\u001b[39m \u001b[39m \u001b[39m \u001b[39m \u001b[39m \u001b[39m \u001b[39m \u001b[39m \u001b[39m \u001b[39m \u001b[39m \u001b[39m \u001b[39m \u001b[39m \u001b[39m \u001b[39m \u001b[39m \u001b[39m \u001b[39m \u001b[39m \u001b[39m \u001b[39m \u001b[39m \u001b[39m \u001b[39m \u001b[39m \u001b[39m \u001b[39m \u001b[39m \u001b[39m \u001b[39m \u001b[39m \u001b[39m \u001b[39m \u001b[39m \u001b[39m \u001b[39m \u001b[39m \u001b[39m \u001b[39m \u001b[39m \u001b[39m \u001b[39m \u001b[39m \u001b[39m \u001b[39m \u001b[39m \u001b[39m \u001b[39m \u001b[39m \u001b[39m \n",
       "  \u001b[39m▃\u001b[39m▅\u001b[39m█\u001b[39m█\u001b[39m█\u001b[34m█\u001b[39m\u001b[39m█\u001b[39m▆\u001b[39m▆\u001b[32m▃\u001b[39m\u001b[39m▅\u001b[39m▃\u001b[39m▃\u001b[39m▄\u001b[39m▄\u001b[39m▄\u001b[39m▃\u001b[39m▄\u001b[39m▃\u001b[39m▃\u001b[39m▂\u001b[39m▂\u001b[39m▁\u001b[39m▁\u001b[39m▂\u001b[39m▁\u001b[39m▁\u001b[39m▂\u001b[39m▂\u001b[39m▂\u001b[39m▁\u001b[39m▁\u001b[39m▁\u001b[39m▁\u001b[39m▁\u001b[39m▁\u001b[39m▁\u001b[39m▁\u001b[39m▁\u001b[39m▁\u001b[39m▁\u001b[39m▁\u001b[39m▂\u001b[39m▂\u001b[39m▁\u001b[39m▁\u001b[39m▁\u001b[39m▁\u001b[39m▂\u001b[39m▃\u001b[39m▂\u001b[39m▂\u001b[39m▁\u001b[39m▂\u001b[39m▂\u001b[39m▂\u001b[39m▂\u001b[39m▁\u001b[39m▂\u001b[39m \u001b[39m▃\n",
       "  7.32 ms\u001b[90m         Histogram: frequency by time\u001b[39m        11.9 ms \u001b[0m\u001b[1m<\u001b[22m\n",
       "\n",
       " Memory estimate\u001b[90m: \u001b[39m\u001b[33m2.51 MiB\u001b[39m, allocs estimate\u001b[90m: \u001b[39m\u001b[33m81920\u001b[39m."
      ]
     },
     "execution_count": 13,
     "metadata": {},
     "output_type": "execute_result"
    }
   ],
   "source": [
    "@benchmark PSO1(1,[-1],[1],100,100,cuad)"
   ]
  },
  {
   "cell_type": "code",
   "execution_count": 14,
   "id": "4710b9aa",
   "metadata": {},
   "outputs": [
    {
     "data": {
      "text/plain": [
       "sen (generic function with 1 method)"
      ]
     },
     "execution_count": 14,
     "metadata": {},
     "output_type": "execute_result"
    }
   ],
   "source": [
    "function sen(x)\n",
    "    return sin(x)\n",
    "end"
   ]
  },
  {
   "cell_type": "code",
   "execution_count": 15,
   "id": "40a90c3b",
   "metadata": {},
   "outputs": [
    {
     "data": {
      "image/svg+xml": [
       "<?xml version=\"1.0\" encoding=\"utf-8\"?>\n",
       "<svg xmlns=\"http://www.w3.org/2000/svg\" xmlns:xlink=\"http://www.w3.org/1999/xlink\" width=\"600\" height=\"400\" viewBox=\"0 0 2400 1600\">\n",
       "<defs>\n",
       "  <clipPath id=\"clip920\">\n",
       "    <rect x=\"0\" y=\"0\" width=\"2400\" height=\"1600\"/>\n",
       "  </clipPath>\n",
       "</defs>\n",
       "<path clip-path=\"url(#clip920)\" d=\"\n",
       "M0 1600 L2400 1600 L2400 0 L0 0  Z\n",
       "  \" fill=\"#ffffff\" fill-rule=\"evenodd\" fill-opacity=\"1\"/>\n",
       "<defs>\n",
       "  <clipPath id=\"clip921\">\n",
       "    <rect x=\"480\" y=\"0\" width=\"1681\" height=\"1600\"/>\n",
       "  </clipPath>\n",
       "</defs>\n",
       "<path clip-path=\"url(#clip920)\" d=\"\n",
       "M193.936 1486.45 L2352.76 1486.45 L2352.76 47.2441 L193.936 47.2441  Z\n",
       "  \" fill=\"#ffffff\" fill-rule=\"evenodd\" fill-opacity=\"1\"/>\n",
       "<defs>\n",
       "  <clipPath id=\"clip922\">\n",
       "    <rect x=\"193\" y=\"47\" width=\"2160\" height=\"1440\"/>\n",
       "  </clipPath>\n",
       "</defs>\n",
       "<polyline clip-path=\"url(#clip922)\" style=\"stroke:#000000; stroke-linecap:round; stroke-linejoin:round; stroke-width:2; stroke-opacity:0.1; fill:none\" points=\"\n",
       "  545.981,1486.45 545.981,47.2441 \n",
       "  \"/>\n",
       "<polyline clip-path=\"url(#clip922)\" style=\"stroke:#000000; stroke-linecap:round; stroke-linejoin:round; stroke-width:2; stroke-opacity:0.1; fill:none\" points=\"\n",
       "  1127.87,1486.45 1127.87,47.2441 \n",
       "  \"/>\n",
       "<polyline clip-path=\"url(#clip922)\" style=\"stroke:#000000; stroke-linecap:round; stroke-linejoin:round; stroke-width:2; stroke-opacity:0.1; fill:none\" points=\"\n",
       "  1709.77,1486.45 1709.77,47.2441 \n",
       "  \"/>\n",
       "<polyline clip-path=\"url(#clip922)\" style=\"stroke:#000000; stroke-linecap:round; stroke-linejoin:round; stroke-width:2; stroke-opacity:0.1; fill:none\" points=\"\n",
       "  2291.66,1486.45 2291.66,47.2441 \n",
       "  \"/>\n",
       "<polyline clip-path=\"url(#clip920)\" style=\"stroke:#000000; stroke-linecap:round; stroke-linejoin:round; stroke-width:4; stroke-opacity:1; fill:none\" points=\"\n",
       "  193.936,1486.45 2352.76,1486.45 \n",
       "  \"/>\n",
       "<polyline clip-path=\"url(#clip920)\" style=\"stroke:#000000; stroke-linecap:round; stroke-linejoin:round; stroke-width:4; stroke-opacity:1; fill:none\" points=\"\n",
       "  545.981,1486.45 545.981,1467.55 \n",
       "  \"/>\n",
       "<polyline clip-path=\"url(#clip920)\" style=\"stroke:#000000; stroke-linecap:round; stroke-linejoin:round; stroke-width:4; stroke-opacity:1; fill:none\" points=\"\n",
       "  1127.87,1486.45 1127.87,1467.55 \n",
       "  \"/>\n",
       "<polyline clip-path=\"url(#clip920)\" style=\"stroke:#000000; stroke-linecap:round; stroke-linejoin:round; stroke-width:4; stroke-opacity:1; fill:none\" points=\"\n",
       "  1709.77,1486.45 1709.77,1467.55 \n",
       "  \"/>\n",
       "<polyline clip-path=\"url(#clip920)\" style=\"stroke:#000000; stroke-linecap:round; stroke-linejoin:round; stroke-width:4; stroke-opacity:1; fill:none\" points=\"\n",
       "  2291.66,1486.45 2291.66,1467.55 \n",
       "  \"/>\n",
       "<path clip-path=\"url(#clip920)\" d=\"M514.881 1532.02 L544.557 1532.02 L544.557 1535.95 L514.881 1535.95 L514.881 1532.02 Z\" fill=\"#000000\" fill-rule=\"evenodd\" fill-opacity=\"1\" /><path clip-path=\"url(#clip920)\" d=\"M567.497 1518.36 L555.691 1536.81 L567.497 1536.81 L567.497 1518.36 M566.27 1514.29 L572.15 1514.29 L572.15 1536.81 L577.08 1536.81 L577.08 1540.7 L572.15 1540.7 L572.15 1548.85 L567.497 1548.85 L567.497 1540.7 L551.895 1540.7 L551.895 1536.19 L566.27 1514.29 Z\" fill=\"#000000\" fill-rule=\"evenodd\" fill-opacity=\"1\" /><path clip-path=\"url(#clip920)\" d=\"M1097.82 1532.02 L1127.49 1532.02 L1127.49 1535.95 L1097.82 1535.95 L1097.82 1532.02 Z\" fill=\"#000000\" fill-rule=\"evenodd\" fill-opacity=\"1\" /><path clip-path=\"url(#clip920)\" d=\"M1141.61 1544.91 L1157.93 1544.91 L1157.93 1548.85 L1135.99 1548.85 L1135.99 1544.91 Q1138.65 1542.16 1143.23 1537.53 Q1147.84 1532.88 1149.02 1531.53 Q1151.26 1529.01 1152.14 1527.27 Q1153.05 1525.51 1153.05 1523.82 Q1153.05 1521.07 1151.1 1519.33 Q1149.18 1517.6 1146.08 1517.6 Q1143.88 1517.6 1141.43 1518.36 Q1139 1519.13 1136.22 1520.68 L1136.22 1515.95 Q1139.04 1514.82 1141.5 1514.24 Q1143.95 1513.66 1145.99 1513.66 Q1151.36 1513.66 1154.55 1516.35 Q1157.75 1519.03 1157.75 1523.52 Q1157.75 1525.65 1156.94 1527.57 Q1156.15 1529.47 1154.04 1532.07 Q1153.46 1532.74 1150.36 1535.95 Q1147.26 1539.15 1141.61 1544.91 Z\" fill=\"#000000\" fill-rule=\"evenodd\" fill-opacity=\"1\" /><path clip-path=\"url(#clip920)\" d=\"M1709.77 1517.37 Q1706.15 1517.37 1704.33 1520.93 Q1702.52 1524.47 1702.52 1531.6 Q1702.52 1538.71 1704.33 1542.27 Q1706.15 1545.82 1709.77 1545.82 Q1713.4 1545.82 1715.2 1542.27 Q1717.03 1538.71 1717.03 1531.6 Q1717.03 1524.47 1715.2 1520.93 Q1713.4 1517.37 1709.77 1517.37 M1709.77 1513.66 Q1715.58 1513.66 1718.63 1518.27 Q1721.71 1522.85 1721.71 1531.6 Q1721.71 1540.33 1718.63 1544.94 Q1715.58 1549.52 1709.77 1549.52 Q1703.95 1549.52 1700.88 1544.94 Q1697.82 1540.33 1697.82 1531.6 Q1697.82 1522.85 1700.88 1518.27 Q1703.95 1513.66 1709.77 1513.66 Z\" fill=\"#000000\" fill-rule=\"evenodd\" fill-opacity=\"1\" /><path clip-path=\"url(#clip920)\" d=\"M2286.31 1544.91 L2302.63 1544.91 L2302.63 1548.85 L2280.69 1548.85 L2280.69 1544.91 Q2283.35 1542.16 2287.93 1537.53 Q2292.54 1532.88 2293.72 1531.53 Q2295.96 1529.01 2296.84 1527.27 Q2297.75 1525.51 2297.75 1523.82 Q2297.75 1521.07 2295.8 1519.33 Q2293.88 1517.6 2290.78 1517.6 Q2288.58 1517.6 2286.12 1518.36 Q2283.69 1519.13 2280.92 1520.68 L2280.92 1515.95 Q2283.74 1514.82 2286.19 1514.24 Q2288.65 1513.66 2290.69 1513.66 Q2296.06 1513.66 2299.25 1516.35 Q2302.44 1519.03 2302.44 1523.52 Q2302.44 1525.65 2301.63 1527.57 Q2300.85 1529.47 2298.74 1532.07 Q2298.16 1532.74 2295.06 1535.95 Q2291.96 1539.15 2286.31 1544.91 Z\" fill=\"#000000\" fill-rule=\"evenodd\" fill-opacity=\"1\" /><polyline clip-path=\"url(#clip922)\" style=\"stroke:#000000; stroke-linecap:round; stroke-linejoin:round; stroke-width:2; stroke-opacity:0.1; fill:none\" points=\"\n",
       "  193.936,1446.14 2352.76,1446.14 \n",
       "  \"/>\n",
       "<polyline clip-path=\"url(#clip922)\" style=\"stroke:#000000; stroke-linecap:round; stroke-linejoin:round; stroke-width:2; stroke-opacity:0.1; fill:none\" points=\"\n",
       "  193.936,1106.6 2352.76,1106.6 \n",
       "  \"/>\n",
       "<polyline clip-path=\"url(#clip922)\" style=\"stroke:#000000; stroke-linecap:round; stroke-linejoin:round; stroke-width:2; stroke-opacity:0.1; fill:none\" points=\"\n",
       "  193.936,767.053 2352.76,767.053 \n",
       "  \"/>\n",
       "<polyline clip-path=\"url(#clip922)\" style=\"stroke:#000000; stroke-linecap:round; stroke-linejoin:round; stroke-width:2; stroke-opacity:0.1; fill:none\" points=\"\n",
       "  193.936,427.511 2352.76,427.511 \n",
       "  \"/>\n",
       "<polyline clip-path=\"url(#clip922)\" style=\"stroke:#000000; stroke-linecap:round; stroke-linejoin:round; stroke-width:2; stroke-opacity:0.1; fill:none\" points=\"\n",
       "  193.936,87.9685 2352.76,87.9685 \n",
       "  \"/>\n",
       "<polyline clip-path=\"url(#clip920)\" style=\"stroke:#000000; stroke-linecap:round; stroke-linejoin:round; stroke-width:4; stroke-opacity:1; fill:none\" points=\"\n",
       "  193.936,1486.45 193.936,47.2441 \n",
       "  \"/>\n",
       "<polyline clip-path=\"url(#clip920)\" style=\"stroke:#000000; stroke-linecap:round; stroke-linejoin:round; stroke-width:4; stroke-opacity:1; fill:none\" points=\"\n",
       "  193.936,1446.14 212.834,1446.14 \n",
       "  \"/>\n",
       "<polyline clip-path=\"url(#clip920)\" style=\"stroke:#000000; stroke-linecap:round; stroke-linejoin:round; stroke-width:4; stroke-opacity:1; fill:none\" points=\"\n",
       "  193.936,1106.6 212.834,1106.6 \n",
       "  \"/>\n",
       "<polyline clip-path=\"url(#clip920)\" style=\"stroke:#000000; stroke-linecap:round; stroke-linejoin:round; stroke-width:4; stroke-opacity:1; fill:none\" points=\"\n",
       "  193.936,767.053 212.834,767.053 \n",
       "  \"/>\n",
       "<polyline clip-path=\"url(#clip920)\" style=\"stroke:#000000; stroke-linecap:round; stroke-linejoin:round; stroke-width:4; stroke-opacity:1; fill:none\" points=\"\n",
       "  193.936,427.511 212.834,427.511 \n",
       "  \"/>\n",
       "<polyline clip-path=\"url(#clip920)\" style=\"stroke:#000000; stroke-linecap:round; stroke-linejoin:round; stroke-width:4; stroke-opacity:1; fill:none\" points=\"\n",
       "  193.936,87.9685 212.834,87.9685 \n",
       "  \"/>\n",
       "<path clip-path=\"url(#clip920)\" d=\"M50.9921 1446.59 L80.6679 1446.59 L80.6679 1450.52 L50.9921 1450.52 L50.9921 1446.59 Z\" fill=\"#000000\" fill-rule=\"evenodd\" fill-opacity=\"1\" /><path clip-path=\"url(#clip920)\" d=\"M91.5706 1459.48 L99.2095 1459.48 L99.2095 1433.12 L90.8993 1434.78 L90.8993 1430.52 L99.1632 1428.86 L103.839 1428.86 L103.839 1459.48 L111.478 1459.48 L111.478 1463.42 L91.5706 1463.42 L91.5706 1459.48 Z\" fill=\"#000000\" fill-rule=\"evenodd\" fill-opacity=\"1\" /><path clip-path=\"url(#clip920)\" d=\"M120.922 1457.54 L125.807 1457.54 L125.807 1463.42 L120.922 1463.42 L120.922 1457.54 Z\" fill=\"#000000\" fill-rule=\"evenodd\" fill-opacity=\"1\" /><path clip-path=\"url(#clip920)\" d=\"M145.992 1431.94 Q142.381 1431.94 140.552 1435.5 Q138.746 1439.04 138.746 1446.17 Q138.746 1453.28 140.552 1456.84 Q142.381 1460.39 145.992 1460.39 Q149.626 1460.39 151.431 1456.84 Q153.26 1453.28 153.26 1446.17 Q153.26 1439.04 151.431 1435.5 Q149.626 1431.94 145.992 1431.94 M145.992 1428.23 Q151.802 1428.23 154.857 1432.84 Q157.936 1437.42 157.936 1446.17 Q157.936 1454.9 154.857 1459.51 Q151.802 1464.09 145.992 1464.09 Q140.181 1464.09 137.103 1459.51 Q134.047 1454.9 134.047 1446.17 Q134.047 1437.42 137.103 1432.84 Q140.181 1428.23 145.992 1428.23 Z\" fill=\"#000000\" fill-rule=\"evenodd\" fill-opacity=\"1\" /><path clip-path=\"url(#clip920)\" d=\"M51.9875 1107.05 L81.6633 1107.05 L81.6633 1110.98 L51.9875 1110.98 L51.9875 1107.05 Z\" fill=\"#000000\" fill-rule=\"evenodd\" fill-opacity=\"1\" /><path clip-path=\"url(#clip920)\" d=\"M101.756 1092.39 Q98.1447 1092.39 96.316 1095.96 Q94.5104 1099.5 94.5104 1106.63 Q94.5104 1113.74 96.316 1117.3 Q98.1447 1120.84 101.756 1120.84 Q105.39 1120.84 107.196 1117.3 Q109.024 1113.74 109.024 1106.63 Q109.024 1099.5 107.196 1095.96 Q105.39 1092.39 101.756 1092.39 M101.756 1088.69 Q107.566 1088.69 110.621 1093.3 Q113.7 1097.88 113.7 1106.63 Q113.7 1115.36 110.621 1119.96 Q107.566 1124.55 101.756 1124.55 Q95.9456 1124.55 92.8669 1119.96 Q89.8114 1115.36 89.8114 1106.63 Q89.8114 1097.88 92.8669 1093.3 Q95.9456 1088.69 101.756 1088.69 Z\" fill=\"#000000\" fill-rule=\"evenodd\" fill-opacity=\"1\" /><path clip-path=\"url(#clip920)\" d=\"M121.918 1118 L126.802 1118 L126.802 1123.88 L121.918 1123.88 L121.918 1118 Z\" fill=\"#000000\" fill-rule=\"evenodd\" fill-opacity=\"1\" /><path clip-path=\"url(#clip920)\" d=\"M137.033 1089.32 L155.39 1089.32 L155.39 1093.25 L141.316 1093.25 L141.316 1101.72 Q142.334 1101.38 143.353 1101.21 Q144.371 1101.03 145.39 1101.03 Q151.177 1101.03 154.556 1104.2 Q157.936 1107.37 157.936 1112.79 Q157.936 1118.37 154.464 1121.47 Q150.992 1124.55 144.672 1124.55 Q142.496 1124.55 140.228 1124.18 Q137.982 1123.81 135.575 1123.07 L135.575 1118.37 Q137.658 1119.5 139.881 1120.06 Q142.103 1120.61 144.58 1120.61 Q148.584 1120.61 150.922 1118.51 Q153.26 1116.4 153.26 1112.79 Q153.26 1109.18 150.922 1107.07 Q148.584 1104.96 144.58 1104.96 Q142.705 1104.96 140.83 1105.38 Q138.978 1105.8 137.033 1106.68 L137.033 1089.32 Z\" fill=\"#000000\" fill-rule=\"evenodd\" fill-opacity=\"1\" /><path clip-path=\"url(#clip920)\" d=\"M100.76 752.852 Q97.1493 752.852 95.3206 756.417 Q93.515 759.958 93.515 767.088 Q93.515 774.194 95.3206 777.759 Q97.1493 781.301 100.76 781.301 Q104.395 781.301 106.2 777.759 Q108.029 774.194 108.029 767.088 Q108.029 759.958 106.2 756.417 Q104.395 752.852 100.76 752.852 M100.76 749.148 Q106.571 749.148 109.626 753.755 Q112.705 758.338 112.705 767.088 Q112.705 775.815 109.626 780.421 Q106.571 785.004 100.76 785.004 Q94.9502 785.004 91.8715 780.421 Q88.816 775.815 88.816 767.088 Q88.816 758.338 91.8715 753.755 Q94.9502 749.148 100.76 749.148 Z\" fill=\"#000000\" fill-rule=\"evenodd\" fill-opacity=\"1\" /><path clip-path=\"url(#clip920)\" d=\"M120.922 778.454 L125.807 778.454 L125.807 784.333 L120.922 784.333 L120.922 778.454 Z\" fill=\"#000000\" fill-rule=\"evenodd\" fill-opacity=\"1\" /><path clip-path=\"url(#clip920)\" d=\"M145.992 752.852 Q142.381 752.852 140.552 756.417 Q138.746 759.958 138.746 767.088 Q138.746 774.194 140.552 777.759 Q142.381 781.301 145.992 781.301 Q149.626 781.301 151.431 777.759 Q153.26 774.194 153.26 767.088 Q153.26 759.958 151.431 756.417 Q149.626 752.852 145.992 752.852 M145.992 749.148 Q151.802 749.148 154.857 753.755 Q157.936 758.338 157.936 767.088 Q157.936 775.815 154.857 780.421 Q151.802 785.004 145.992 785.004 Q140.181 785.004 137.103 780.421 Q134.047 775.815 134.047 767.088 Q134.047 758.338 137.103 753.755 Q140.181 749.148 145.992 749.148 Z\" fill=\"#000000\" fill-rule=\"evenodd\" fill-opacity=\"1\" /><path clip-path=\"url(#clip920)\" d=\"M101.756 413.31 Q98.1447 413.31 96.316 416.874 Q94.5104 420.416 94.5104 427.546 Q94.5104 434.652 96.316 438.217 Q98.1447 441.758 101.756 441.758 Q105.39 441.758 107.196 438.217 Q109.024 434.652 109.024 427.546 Q109.024 420.416 107.196 416.874 Q105.39 413.31 101.756 413.31 M101.756 409.606 Q107.566 409.606 110.621 414.212 Q113.7 418.796 113.7 427.546 Q113.7 436.272 110.621 440.879 Q107.566 445.462 101.756 445.462 Q95.9456 445.462 92.8669 440.879 Q89.8114 436.272 89.8114 427.546 Q89.8114 418.796 92.8669 414.212 Q95.9456 409.606 101.756 409.606 Z\" fill=\"#000000\" fill-rule=\"evenodd\" fill-opacity=\"1\" /><path clip-path=\"url(#clip920)\" d=\"M121.918 438.911 L126.802 438.911 L126.802 444.791 L121.918 444.791 L121.918 438.911 Z\" fill=\"#000000\" fill-rule=\"evenodd\" fill-opacity=\"1\" /><path clip-path=\"url(#clip920)\" d=\"M137.033 410.231 L155.39 410.231 L155.39 414.166 L141.316 414.166 L141.316 422.638 Q142.334 422.291 143.353 422.129 Q144.371 421.944 145.39 421.944 Q151.177 421.944 154.556 425.115 Q157.936 428.286 157.936 433.703 Q157.936 439.282 154.464 442.383 Q150.992 445.462 144.672 445.462 Q142.496 445.462 140.228 445.092 Q137.982 444.721 135.575 443.981 L135.575 439.282 Q137.658 440.416 139.881 440.971 Q142.103 441.527 144.58 441.527 Q148.584 441.527 150.922 439.421 Q153.26 437.314 153.26 433.703 Q153.26 430.092 150.922 427.985 Q148.584 425.879 144.58 425.879 Q142.705 425.879 140.83 426.296 Q138.978 426.712 137.033 427.592 L137.033 410.231 Z\" fill=\"#000000\" fill-rule=\"evenodd\" fill-opacity=\"1\" /><path clip-path=\"url(#clip920)\" d=\"M91.5706 101.313 L99.2095 101.313 L99.2095 74.9477 L90.8993 76.6144 L90.8993 72.3552 L99.1632 70.6885 L103.839 70.6885 L103.839 101.313 L111.478 101.313 L111.478 105.249 L91.5706 105.249 L91.5706 101.313 Z\" fill=\"#000000\" fill-rule=\"evenodd\" fill-opacity=\"1\" /><path clip-path=\"url(#clip920)\" d=\"M120.922 99.3689 L125.807 99.3689 L125.807 105.249 L120.922 105.249 L120.922 99.3689 Z\" fill=\"#000000\" fill-rule=\"evenodd\" fill-opacity=\"1\" /><path clip-path=\"url(#clip920)\" d=\"M145.992 73.7672 Q142.381 73.7672 140.552 77.332 Q138.746 80.8736 138.746 88.0032 Q138.746 95.1097 140.552 98.6745 Q142.381 102.216 145.992 102.216 Q149.626 102.216 151.431 98.6745 Q153.26 95.1097 153.26 88.0032 Q153.26 80.8736 151.431 77.332 Q149.626 73.7672 145.992 73.7672 M145.992 70.0635 Q151.802 70.0635 154.857 74.67 Q157.936 79.2533 157.936 88.0032 Q157.936 96.73 154.857 101.336 Q151.802 105.92 145.992 105.92 Q140.181 105.92 137.103 101.336 Q134.047 96.73 134.047 88.0032 Q134.047 79.2533 137.103 74.67 Q140.181 70.0635 145.992 70.0635 Z\" fill=\"#000000\" fill-rule=\"evenodd\" fill-opacity=\"1\" /><polyline clip-path=\"url(#clip922)\" style=\"stroke:#009af9; stroke-linecap:round; stroke-linejoin:round; stroke-width:4; stroke-opacity:1; fill:none\" points=\"\n",
       "  255.035,115.862 275.607,103.881 296.179,95.2128 316.751,89.9025 337.322,87.9763 357.894,89.4436 378.466,94.2973 399.038,102.513 419.61,114.05 440.182,128.85 \n",
       "  460.754,146.839 481.326,167.928 501.898,192.011 522.47,218.967 543.042,248.663 563.614,280.949 584.186,315.665 604.758,352.636 625.33,391.678 645.902,432.596 \n",
       "  666.474,475.186 687.046,519.234 707.617,564.521 728.189,610.819 748.761,657.899 769.333,705.524 789.905,753.456 810.477,801.457 831.049,849.285 851.621,896.703 \n",
       "  872.193,943.473 892.765,989.361 913.337,1034.14 933.909,1077.58 954.481,1119.47 975.053,1159.6 995.625,1197.77 1016.2,1233.78 1036.77,1267.47 1057.34,1298.65 \n",
       "  1077.91,1327.17 1098.48,1352.9 1119.06,1375.7 1139.63,1395.45 1160.2,1412.07 1180.77,1425.46 1201.34,1435.57 1221.92,1442.33 1242.49,1445.72 1263.06,1445.71 \n",
       "  1283.63,1442.32 1304.2,1435.55 1324.78,1425.43 1345.35,1412.03 1365.92,1395.41 1386.49,1375.64 1407.06,1352.84 1427.64,1327.1 1448.21,1298.57 1468.78,1267.38 \n",
       "  1489.35,1233.69 1509.92,1197.67 1530.5,1159.5 1551.07,1119.37 1571.64,1077.47 1592.21,1034.03 1612.78,989.246 1633.35,943.356 1653.93,896.584 1674.5,849.165 \n",
       "  1695.07,801.336 1715.64,753.335 1736.21,705.403 1756.79,657.779 1777.36,610.701 1797.93,564.405 1818.5,519.121 1839.07,475.076 1859.65,432.491 1880.22,391.577 \n",
       "  1900.79,352.54 1921.36,315.574 1941.93,280.864 1962.51,248.585 1983.08,218.896 2003.65,191.946 2024.22,167.871 2044.79,146.79 2065.37,128.808 2085.94,114.016 \n",
       "  2106.51,102.488 2127.08,94.2808 2147.65,89.4357 2168.23,87.9769 2188.8,89.9117 2209.37,95.2305 2229.94,103.907 2250.51,115.897 2271.09,131.141 2291.66,149.563 \n",
       "  \n",
       "  \"/>\n",
       "<path clip-path=\"url(#clip920)\" d=\"\n",
       "M2012.48 1438.47 L2280.8 1438.47 L2280.8 1334.79 L2012.48 1334.79  Z\n",
       "  \" fill=\"#ffffff\" fill-rule=\"evenodd\" fill-opacity=\"1\"/>\n",
       "<polyline clip-path=\"url(#clip920)\" style=\"stroke:#000000; stroke-linecap:round; stroke-linejoin:round; stroke-width:4; stroke-opacity:1; fill:none\" points=\"\n",
       "  2012.48,1438.47 2280.8,1438.47 2280.8,1334.79 2012.48,1334.79 2012.48,1438.47 \n",
       "  \"/>\n",
       "<polyline clip-path=\"url(#clip920)\" style=\"stroke:#009af9; stroke-linecap:round; stroke-linejoin:round; stroke-width:4; stroke-opacity:1; fill:none\" points=\"\n",
       "  2036.47,1386.63 2180.39,1386.63 \n",
       "  \"/>\n",
       "<path clip-path=\"url(#clip920)\" d=\"M2218.22 1406.32 Q2216.42 1410.95 2214.7 1412.36 Q2212.99 1413.78 2210.12 1413.78 L2206.72 1413.78 L2206.72 1410.21 L2209.22 1410.21 Q2210.98 1410.21 2211.95 1409.38 Q2212.92 1408.54 2214.1 1405.44 L2214.86 1403.5 L2204.38 1377.99 L2208.89 1377.99 L2216.99 1398.27 L2225.1 1377.99 L2229.61 1377.99 L2218.22 1406.32 Z\" fill=\"#000000\" fill-rule=\"evenodd\" fill-opacity=\"1\" /><path clip-path=\"url(#clip920)\" d=\"M2236.9 1399.98 L2244.54 1399.98 L2244.54 1373.61 L2236.23 1375.28 L2236.23 1371.02 L2244.49 1369.35 L2249.17 1369.35 L2249.17 1399.98 L2256.81 1399.98 L2256.81 1403.91 L2236.9 1403.91 L2236.9 1399.98 Z\" fill=\"#000000\" fill-rule=\"evenodd\" fill-opacity=\"1\" /></svg>\n"
      ]
     },
     "execution_count": 15,
     "metadata": {},
     "output_type": "execute_result"
    }
   ],
   "source": [
    "#Gráfica de seno(x), donde vemos que tiene un mínimo en -pi/2\n",
    "x = range(-5,2, length=100)\n",
    "plot(x,sen)"
   ]
  },
  {
   "cell_type": "code",
   "execution_count": 16,
   "id": "6975fa9c",
   "metadata": {},
   "outputs": [
    {
     "data": {
      "text/plain": [
       "1-element Vector{Float64}:\n",
       " -1.5709465910479046"
      ]
     },
     "execution_count": 16,
     "metadata": {},
     "output_type": "execute_result"
    }
   ],
   "source": [
    "PSO1(1,[-3],[-1],100,100,sen)"
   ]
  },
  {
   "cell_type": "code",
   "execution_count": 17,
   "id": "d2f90462",
   "metadata": {},
   "outputs": [
    {
     "data": {
      "text/plain": [
       "BenchmarkTools.Trial: 602 samples with 1 evaluation.\n",
       " Range \u001b[90m(\u001b[39m\u001b[36m\u001b[1mmin\u001b[22m\u001b[39m … \u001b[35mmax\u001b[39m\u001b[90m):  \u001b[39m\u001b[36m\u001b[1m7.444 ms\u001b[22m\u001b[39m … \u001b[35m 13.862 ms\u001b[39m  \u001b[90m┊\u001b[39m GC \u001b[90m(\u001b[39mmin … max\u001b[90m): \u001b[39m0.00% … 28.06%\n",
       " Time  \u001b[90m(\u001b[39m\u001b[34m\u001b[1mmedian\u001b[22m\u001b[39m\u001b[90m):     \u001b[39m\u001b[34m\u001b[1m8.024 ms               \u001b[22m\u001b[39m\u001b[90m┊\u001b[39m GC \u001b[90m(\u001b[39mmedian\u001b[90m):    \u001b[39m0.00%\n",
       " Time  \u001b[90m(\u001b[39m\u001b[32m\u001b[1mmean\u001b[22m\u001b[39m ± \u001b[32mσ\u001b[39m\u001b[90m):   \u001b[39m\u001b[32m\u001b[1m8.305 ms\u001b[22m\u001b[39m ± \u001b[32m899.615 μs\u001b[39m  \u001b[90m┊\u001b[39m GC \u001b[90m(\u001b[39mmean ± σ\u001b[90m):  \u001b[39m1.66% ±  5.81%\n",
       "\n",
       "  \u001b[39m \u001b[39m \u001b[39m \u001b[39m \u001b[39m▅\u001b[39m█\u001b[39m█\u001b[34m▄\u001b[39m\u001b[39m \u001b[39m \u001b[39m \u001b[32m \u001b[39m\u001b[39m \u001b[39m \u001b[39m \u001b[39m \u001b[39m \u001b[39m \u001b[39m \u001b[39m \u001b[39m \u001b[39m \u001b[39m \u001b[39m \u001b[39m \u001b[39m \u001b[39m \u001b[39m \u001b[39m \u001b[39m \u001b[39m \u001b[39m \u001b[39m \u001b[39m \u001b[39m \u001b[39m \u001b[39m \u001b[39m \u001b[39m \u001b[39m \u001b[39m \u001b[39m \u001b[39m \u001b[39m \u001b[39m \u001b[39m \u001b[39m \u001b[39m \u001b[39m \u001b[39m \u001b[39m \u001b[39m \u001b[39m \u001b[39m \u001b[39m \u001b[39m \u001b[39m \u001b[39m \u001b[39m \u001b[39m \u001b[39m \n",
       "  \u001b[39m▂\u001b[39m▃\u001b[39m▄\u001b[39m█\u001b[39m█\u001b[39m█\u001b[39m█\u001b[34m█\u001b[39m\u001b[39m▇\u001b[39m█\u001b[39m▇\u001b[32m▆\u001b[39m\u001b[39m▄\u001b[39m▄\u001b[39m▄\u001b[39m▄\u001b[39m▃\u001b[39m▃\u001b[39m▃\u001b[39m▃\u001b[39m▂\u001b[39m▃\u001b[39m▂\u001b[39m▂\u001b[39m▂\u001b[39m▂\u001b[39m▁\u001b[39m▁\u001b[39m▂\u001b[39m▂\u001b[39m▂\u001b[39m▂\u001b[39m▂\u001b[39m▁\u001b[39m▁\u001b[39m▂\u001b[39m▁\u001b[39m▁\u001b[39m▁\u001b[39m▁\u001b[39m▁\u001b[39m▁\u001b[39m▁\u001b[39m▁\u001b[39m▁\u001b[39m▁\u001b[39m▂\u001b[39m▁\u001b[39m▁\u001b[39m▂\u001b[39m▁\u001b[39m▂\u001b[39m▂\u001b[39m▂\u001b[39m▂\u001b[39m▂\u001b[39m▂\u001b[39m▁\u001b[39m▃\u001b[39m \u001b[39m▃\n",
       "  7.44 ms\u001b[90m         Histogram: frequency by time\u001b[39m        12.3 ms \u001b[0m\u001b[1m<\u001b[22m\n",
       "\n",
       " Memory estimate\u001b[90m: \u001b[39m\u001b[33m2.46 MiB\u001b[39m, allocs estimate\u001b[90m: \u001b[39m\u001b[33m80921\u001b[39m."
      ]
     },
     "execution_count": 17,
     "metadata": {},
     "output_type": "execute_result"
    }
   ],
   "source": [
    "@benchmark PSO1(1,[-3],[-1],100,100,sen)"
   ]
  }
 ],
 "metadata": {
  "kernelspec": {
   "display_name": "Julia 1.8.3",
   "language": "julia",
   "name": "julia-1.8"
  },
  "language_info": {
   "file_extension": ".jl",
   "mimetype": "application/julia",
   "name": "julia",
   "version": "1.8.3"
  }
 },
 "nbformat": 4,
 "nbformat_minor": 5
}
